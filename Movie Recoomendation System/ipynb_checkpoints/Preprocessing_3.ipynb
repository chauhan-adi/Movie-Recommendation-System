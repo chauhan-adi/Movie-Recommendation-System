{
 "cells": [
  {
   "cell_type": "code",
   "execution_count": null,
   "metadata": {
    "colab": {
     "base_uri": "https://localhost:8080/",
     "height": 71
    },
    "colab_type": "code",
    "id": "7SK9oEXp1i5Y",
    "outputId": "cfd5d445-c163-42cd-ca91-aa4719055a1d"
   },
   "outputs": [
    {
     "name": "stderr",
     "output_type": "stream",
     "text": [
      "/usr/local/lib/python3.6/dist-packages/statsmodels/tools/_testing.py:19: FutureWarning: pandas.util.testing is deprecated. Use the functions in the public API at pandas.testing instead.\n",
      "  import pandas.util.testing as tm\n"
     ]
    }
   ],
   "source": [
    "import pandas as pd\n",
    "import numpy as np\n",
    "import matplotlib.pyplot as plt\n",
    "import seaborn as sns"
   ]
  },
  {
   "cell_type": "code",
   "execution_count": null,
   "metadata": {
    "colab": {},
    "colab_type": "code",
    "id": "409gPOmq2BjL"
   },
   "outputs": [],
   "source": [
    "df = pd.read_csv('C:/Users/Admin/Desktop/Miniproject/Data/main_movies.csv')"
   ]
  },
  {
   "cell_type": "code",
   "execution_count": null,
   "metadata": {
    "colab": {},
    "colab_type": "code",
    "id": "gjVKMqQRfO3m"
   },
   "outputs": [],
   "source": [
    "df = df.drop(columns='Crew')"
   ]
  },
  {
   "cell_type": "code",
   "execution_count": null,
   "metadata": {
    "colab": {
     "base_uri": "https://localhost:8080/",
     "height": 34
    },
    "colab_type": "code",
    "id": "4oaf2klR6NtB",
    "outputId": "3fb4327b-b5e5-409b-8787-9759a90b25ad"
   },
   "outputs": [
    {
     "data": {
      "text/plain": [
       "(54679, 14)"
      ]
     },
     "execution_count": 4,
     "metadata": {
      "tags": []
     },
     "output_type": "execute_result"
    }
   ],
   "source": [
    "df.shape"
   ]
  },
  {
   "cell_type": "code",
   "execution_count": null,
   "metadata": {
    "colab": {},
    "colab_type": "code",
    "id": "gQqgtwvf2yzu"
   },
   "outputs": [],
   "source": [
    "# Removing the square brackets from either ends of the string\n",
    "df['Cast'] = df['Cast'].str.strip('[]')\n",
    "df['Runtime'] = df['Runtime'].str.strip('[]')\n",
    "df['Vote_count'] = df['Vote_count'].str.strip('[]')\n",
    "df['Vote_avg'] = df['Vote_avg'].str.strip('[]')\n",
    "df['Director'] = df['Director'].str.strip('[]')\n",
    "df['Screenplay'] = df['Screenplay'].str.strip('[]')\n",
    "df['Original_score'] = df['Original_score'].str.strip('[]')\n",
    "df['Cinematography'] = df['Cinematography'].str.strip('[]')\n",
    "df['Keywords'] = df['Keywords'].str.strip('[]')"
   ]
  },
  {
   "cell_type": "code",
   "execution_count": null,
   "metadata": {
    "colab": {},
    "colab_type": "code",
    "id": "TS9MaCP43ytC"
   },
   "outputs": [],
   "source": [
    "split_values = df['Cast'].str.split(',', expand = True)"
   ]
  },
  {
   "cell_type": "code",
   "execution_count": null,
   "metadata": {
    "colab": {},
    "colab_type": "code",
    "id": "Gv0sRh8W5OzW"
   },
   "outputs": [],
   "source": [
    "df['actor1'] = split_values[0]\n",
    "df['actor2'] = split_values[1]\n",
    "df['actor3'] = split_values[2]\n",
    "df['actor4'] = split_values[3]\n",
    "df['actor5'] = split_values[4]"
   ]
  },
  {
   "cell_type": "code",
   "execution_count": null,
   "metadata": {
    "colab": {},
    "colab_type": "code",
    "id": "B-4WFSWA-FBA"
   },
   "outputs": [],
   "source": [
    "df = df.drop(columns='Cast')"
   ]
  },
  {
   "cell_type": "code",
   "execution_count": null,
   "metadata": {
    "colab": {},
    "colab_type": "code",
    "id": "_RCAKwtKwQzc"
   },
   "outputs": [],
   "source": [
    "df.replace('\\'','', regex=True, inplace=True) "
   ]
  },
  {
   "cell_type": "code",
   "execution_count": null,
   "metadata": {
    "colab": {},
    "colab_type": "code",
    "id": "culvMtN12GGH"
   },
   "outputs": [],
   "source": [
    "df['Year'] = df['Year'].str.replace(' ','')"
   ]
  },
  {
   "cell_type": "code",
   "execution_count": null,
   "metadata": {
    "colab": {
     "base_uri": "https://localhost:8080/",
     "height": 462
    },
    "colab_type": "code",
    "id": "i6bUlHWD8jRY",
    "outputId": "8ed08181-3425-4e5c-fe0a-0f7633e01b11"
   },
   "outputs": [
    {
     "data": {
      "text/html": [
       "<div>\n",
       "<style scoped>\n",
       "    .dataframe tbody tr th:only-of-type {\n",
       "        vertical-align: middle;\n",
       "    }\n",
       "\n",
       "    .dataframe tbody tr th {\n",
       "        vertical-align: top;\n",
       "    }\n",
       "\n",
       "    .dataframe thead th {\n",
       "        text-align: right;\n",
       "    }\n",
       "</style>\n",
       "<table border=\"1\" class=\"dataframe\">\n",
       "  <thead>\n",
       "    <tr style=\"text-align: right;\">\n",
       "      <th></th>\n",
       "      <th>tmdbId</th>\n",
       "      <th>Title</th>\n",
       "      <th>Year</th>\n",
       "      <th>Genres</th>\n",
       "      <th>Language</th>\n",
       "      <th>Runtime</th>\n",
       "      <th>Vote_count</th>\n",
       "      <th>Vote_avg</th>\n",
       "      <th>Director</th>\n",
       "      <th>Screenplay</th>\n",
       "      <th>Original_score</th>\n",
       "      <th>Cinematography</th>\n",
       "      <th>Keywords</th>\n",
       "      <th>actor1</th>\n",
       "      <th>actor2</th>\n",
       "      <th>actor3</th>\n",
       "      <th>actor4</th>\n",
       "      <th>actor5</th>\n",
       "    </tr>\n",
       "  </thead>\n",
       "  <tbody>\n",
       "    <tr>\n",
       "      <th>0</th>\n",
       "      <td>862</td>\n",
       "      <td>Toy Story</td>\n",
       "      <td>1995</td>\n",
       "      <td>Animation Comedy Family</td>\n",
       "      <td>English</td>\n",
       "      <td>81</td>\n",
       "      <td>12628</td>\n",
       "      <td>7.9</td>\n",
       "      <td>John Lasseter</td>\n",
       "      <td>Andrew Stanton</td>\n",
       "      <td>Randy Newman</td>\n",
       "      <td>NaN</td>\n",
       "      <td>martial arts, jealousy, toy, friendship, bully...</td>\n",
       "      <td>Tom Hanks</td>\n",
       "      <td>Tim Allen</td>\n",
       "      <td>Don Rickles</td>\n",
       "      <td>Jim Varney</td>\n",
       "      <td>Wallace Shawn</td>\n",
       "    </tr>\n",
       "    <tr>\n",
       "      <th>1</th>\n",
       "      <td>8844</td>\n",
       "      <td>Jumanji</td>\n",
       "      <td>1995</td>\n",
       "      <td>Adventure Fantasy Family</td>\n",
       "      <td>English</td>\n",
       "      <td>104</td>\n",
       "      <td>7378</td>\n",
       "      <td>7.2</td>\n",
       "      <td>Joe Johnston</td>\n",
       "      <td>Jonathan Hensleigh</td>\n",
       "      <td>James Horner</td>\n",
       "      <td>Thomas E. Ackerman</td>\n",
       "      <td>giant insect, board game, jungle, disappearanc...</td>\n",
       "      <td>Robin Williams</td>\n",
       "      <td>Jonathan Hyde</td>\n",
       "      <td>Kirsten Dunst</td>\n",
       "      <td>Bradley Pierce</td>\n",
       "      <td>Bonnie Hunt</td>\n",
       "    </tr>\n",
       "    <tr>\n",
       "      <th>2</th>\n",
       "      <td>15602</td>\n",
       "      <td>Grumpier Old Men</td>\n",
       "      <td>1995</td>\n",
       "      <td>Romance Comedy</td>\n",
       "      <td>English</td>\n",
       "      <td>101</td>\n",
       "      <td>203</td>\n",
       "      <td>6.6</td>\n",
       "      <td>Howard Deutch</td>\n",
       "      <td>NaN</td>\n",
       "      <td>Alan Silvestri</td>\n",
       "      <td>Tak Fujimoto</td>\n",
       "      <td>fishing, old man, best friend, duringcreditsst...</td>\n",
       "      <td>Walter Matthau</td>\n",
       "      <td>Jack Lemmon</td>\n",
       "      <td>Ann-Margret</td>\n",
       "      <td>Sophia Loren</td>\n",
       "      <td>Daryl Hannah</td>\n",
       "    </tr>\n",
       "    <tr>\n",
       "      <th>3</th>\n",
       "      <td>31357</td>\n",
       "      <td>Waiting to Exhale</td>\n",
       "      <td>1995</td>\n",
       "      <td>Comedy Drama Romance</td>\n",
       "      <td>English</td>\n",
       "      <td>127</td>\n",
       "      <td>75</td>\n",
       "      <td>6.2</td>\n",
       "      <td>Forest Whitaker</td>\n",
       "      <td>Ronald Bass</td>\n",
       "      <td>Kenneth Edmonds</td>\n",
       "      <td>Toyomichi Kurita</td>\n",
       "      <td>based on novel or book, interracial relationsh...</td>\n",
       "      <td>Whitney Houston</td>\n",
       "      <td>Angela Bassett</td>\n",
       "      <td>Loretta Devine</td>\n",
       "      <td>Lela Rochon</td>\n",
       "      <td>Gregory Hines</td>\n",
       "    </tr>\n",
       "    <tr>\n",
       "      <th>4</th>\n",
       "      <td>11862</td>\n",
       "      <td>Father of the Bride Part II</td>\n",
       "      <td>1995</td>\n",
       "      <td>Comedy</td>\n",
       "      <td>English</td>\n",
       "      <td>106</td>\n",
       "      <td>416</td>\n",
       "      <td>6.2</td>\n",
       "      <td>Charles Shyer</td>\n",
       "      <td>Nancy Meyers</td>\n",
       "      <td>Alan Silvestri</td>\n",
       "      <td>Elliot Davis</td>\n",
       "      <td>parent child relationship, baby, midlife crisi...</td>\n",
       "      <td>Steve Martin</td>\n",
       "      <td>Diane Keaton</td>\n",
       "      <td>Martin Short</td>\n",
       "      <td>Kimberly Williams-Paisley</td>\n",
       "      <td>George Newbern</td>\n",
       "    </tr>\n",
       "  </tbody>\n",
       "</table>\n",
       "</div>"
      ],
      "text/plain": [
       "   tmdbId  ...           actor5\n",
       "0     862  ...    Wallace Shawn\n",
       "1    8844  ...      Bonnie Hunt\n",
       "2   15602  ...     Daryl Hannah\n",
       "3   31357  ...    Gregory Hines\n",
       "4   11862  ...   George Newbern\n",
       "\n",
       "[5 rows x 18 columns]"
      ]
     },
     "execution_count": 11,
     "metadata": {
      "tags": []
     },
     "output_type": "execute_result"
    }
   ],
   "source": [
    "df.head()"
   ]
  },
  {
   "cell_type": "code",
   "execution_count": null,
   "metadata": {
    "colab": {},
    "colab_type": "code",
    "id": "31W4B3JMKuzC"
   },
   "outputs": [],
   "source": [
    "df['Keywords'] = df['Keywords'].str.replace(' ','')"
   ]
  },
  {
   "cell_type": "code",
   "execution_count": null,
   "metadata": {
    "colab": {},
    "colab_type": "code",
    "id": "bNelti1DLCqi"
   },
   "outputs": [],
   "source": [
    "df['Keywords'] = df['Keywords'].str.replace(',',' ')"
   ]
  },
  {
   "cell_type": "code",
   "execution_count": null,
   "metadata": {
    "colab": {},
    "colab_type": "code",
    "id": "InHqYg9F5d_G"
   },
   "outputs": [],
   "source": [
    "df['Year'] = df['Year'].apply(lambda x: pd.to_numeric(x, errors='coerce'))"
   ]
  },
  {
   "cell_type": "code",
   "execution_count": null,
   "metadata": {
    "colab": {
     "base_uri": "https://localhost:8080/",
     "height": 34
    },
    "colab_type": "code",
    "id": "aHGUVfpc8Hhy",
    "outputId": "d32bf748-0721-440d-d333-ae80d6a90aa3"
   },
   "outputs": [
    {
     "data": {
      "text/plain": [
       "(54679, 18)"
      ]
     },
     "execution_count": 16,
     "metadata": {
      "tags": []
     },
     "output_type": "execute_result"
    }
   ],
   "source": [
    "df.shape"
   ]
  },
  {
   "cell_type": "code",
   "execution_count": null,
   "metadata": {
    "colab": {},
    "colab_type": "code",
    "id": "UflwhqDj8eT5"
   },
   "outputs": [],
   "source": [
    "df = df.dropna(subset=['Year'])"
   ]
  },
  {
   "cell_type": "code",
   "execution_count": null,
   "metadata": {
    "colab": {},
    "colab_type": "code",
    "id": "Ti9Ap0pF-DtZ"
   },
   "outputs": [],
   "source": [
    "df['Year'] = df['Year'].astype(int)"
   ]
  },
  {
   "cell_type": "code",
   "execution_count": null,
   "metadata": {
    "colab": {
     "base_uri": "https://localhost:8080/",
     "height": 221
    },
    "colab_type": "code",
    "id": "7RFc_STI1Ldo",
    "outputId": "0064f34f-071a-4cb3-b230-d4b8ebd9e927"
   },
   "outputs": [
    {
     "data": {
      "text/plain": [
       "array([1995, 1994, 1996, 1976, 1992, 1988, 1967, 1993, 1964, 1977, 1965,\n",
       "       1982, 1985, 1990, 1991, 1989, 1937, 1940, 1969, 1981, 1973, 1970,\n",
       "       1960, 1955, 1959, 1968, 1980, 1975, 1986, 1948, 1943, 1950, 1987,\n",
       "       1997, 1974, 1956, 1958, 1949, 1972, 1998, 1933, 1952, 1951, 1957,\n",
       "       1961, 1954, 1934, 1944, 1963, 1942, 1941, 1953, 1939, 1947, 1946,\n",
       "       1945, 1938, 1935, 1936, 1926, 1932, 1979, 1971, 1978, 1966, 1962,\n",
       "       1983, 1984, 1931, 1922, 1999, 1927, 1929, 1930, 1928, 1925, 2000,\n",
       "       1919, 1923, 1920, 1918, 1921, 2001, 1924, 2002, 2003, 1915, 2004,\n",
       "       1916, 1917, 2005, 2006, 1902, 1903, 2007, 2008, 2009, 1914, 1912,\n",
       "       2010, 1913, 2011, 1898, 1899, 1894, 2012, 1910, 1901, 2013, 1896,\n",
       "       2014, 2015, 1895, 1909, 1911, 1900, 2016, 2017, 2018, 1905, 1904,\n",
       "       1892, 1908, 1891, 1907, 1906, 1897])"
      ]
     },
     "execution_count": 20,
     "metadata": {
      "tags": []
     },
     "output_type": "execute_result"
    }
   ],
   "source": [
    "df.Year.unique()"
   ]
  },
  {
   "cell_type": "code",
   "execution_count": null,
   "metadata": {
    "colab": {
     "base_uri": "https://localhost:8080/",
     "height": 394
    },
    "colab_type": "code",
    "id": "FrNm97DX0-SP",
    "outputId": "798681f3-e42a-4fea-faa5-28e156746c17"
   },
   "outputs": [
    {
     "data": {
      "text/html": [
       "<div>\n",
       "<style scoped>\n",
       "    .dataframe tbody tr th:only-of-type {\n",
       "        vertical-align: middle;\n",
       "    }\n",
       "\n",
       "    .dataframe tbody tr th {\n",
       "        vertical-align: top;\n",
       "    }\n",
       "\n",
       "    .dataframe thead th {\n",
       "        text-align: right;\n",
       "    }\n",
       "</style>\n",
       "<table border=\"1\" class=\"dataframe\">\n",
       "  <thead>\n",
       "    <tr style=\"text-align: right;\">\n",
       "      <th></th>\n",
       "      <th>tmdbId</th>\n",
       "      <th>Title</th>\n",
       "      <th>Year</th>\n",
       "      <th>Genres</th>\n",
       "      <th>Language</th>\n",
       "      <th>Runtime</th>\n",
       "      <th>Vote_count</th>\n",
       "      <th>Vote_avg</th>\n",
       "      <th>Director</th>\n",
       "      <th>Screenplay</th>\n",
       "      <th>Original_score</th>\n",
       "      <th>Cinematography</th>\n",
       "      <th>Keywords</th>\n",
       "      <th>actor1</th>\n",
       "      <th>actor2</th>\n",
       "      <th>actor3</th>\n",
       "      <th>actor4</th>\n",
       "      <th>actor5</th>\n",
       "    </tr>\n",
       "  </thead>\n",
       "  <tbody>\n",
       "    <tr>\n",
       "      <th>0</th>\n",
       "      <td>862</td>\n",
       "      <td>Toy Story</td>\n",
       "      <td>1995</td>\n",
       "      <td>Animation Comedy Family</td>\n",
       "      <td>English</td>\n",
       "      <td>81</td>\n",
       "      <td>12628</td>\n",
       "      <td>7.9</td>\n",
       "      <td>John Lasseter</td>\n",
       "      <td>Andrew Stanton</td>\n",
       "      <td>Randy Newman</td>\n",
       "      <td>NaN</td>\n",
       "      <td>martialarts jealousy toy friendship bullying e...</td>\n",
       "      <td>Tom Hanks</td>\n",
       "      <td>Tim Allen</td>\n",
       "      <td>Don Rickles</td>\n",
       "      <td>Jim Varney</td>\n",
       "      <td>Wallace Shawn</td>\n",
       "    </tr>\n",
       "    <tr>\n",
       "      <th>1</th>\n",
       "      <td>8844</td>\n",
       "      <td>Jumanji</td>\n",
       "      <td>1995</td>\n",
       "      <td>Adventure Fantasy Family</td>\n",
       "      <td>English</td>\n",
       "      <td>104</td>\n",
       "      <td>7378</td>\n",
       "      <td>7.2</td>\n",
       "      <td>Joe Johnston</td>\n",
       "      <td>Jonathan Hensleigh</td>\n",
       "      <td>James Horner</td>\n",
       "      <td>Thomas E. Ackerman</td>\n",
       "      <td>giantinsect boardgame jungle disappearance rec...</td>\n",
       "      <td>Robin Williams</td>\n",
       "      <td>Jonathan Hyde</td>\n",
       "      <td>Kirsten Dunst</td>\n",
       "      <td>Bradley Pierce</td>\n",
       "      <td>Bonnie Hunt</td>\n",
       "    </tr>\n",
       "    <tr>\n",
       "      <th>2</th>\n",
       "      <td>15602</td>\n",
       "      <td>Grumpier Old Men</td>\n",
       "      <td>1995</td>\n",
       "      <td>Romance Comedy</td>\n",
       "      <td>English</td>\n",
       "      <td>101</td>\n",
       "      <td>203</td>\n",
       "      <td>6.6</td>\n",
       "      <td>Howard Deutch</td>\n",
       "      <td>NaN</td>\n",
       "      <td>Alan Silvestri</td>\n",
       "      <td>Tak Fujimoto</td>\n",
       "      <td>fishing oldman bestfriend duringcreditsstinger</td>\n",
       "      <td>Walter Matthau</td>\n",
       "      <td>Jack Lemmon</td>\n",
       "      <td>Ann-Margret</td>\n",
       "      <td>Sophia Loren</td>\n",
       "      <td>Daryl Hannah</td>\n",
       "    </tr>\n",
       "    <tr>\n",
       "      <th>3</th>\n",
       "      <td>31357</td>\n",
       "      <td>Waiting to Exhale</td>\n",
       "      <td>1995</td>\n",
       "      <td>Comedy Drama Romance</td>\n",
       "      <td>English</td>\n",
       "      <td>127</td>\n",
       "      <td>75</td>\n",
       "      <td>6.2</td>\n",
       "      <td>Forest Whitaker</td>\n",
       "      <td>Ronald Bass</td>\n",
       "      <td>Kenneth Edmonds</td>\n",
       "      <td>Toyomichi Kurita</td>\n",
       "      <td>basedonnovelorbook interracialrelationship sin...</td>\n",
       "      <td>Whitney Houston</td>\n",
       "      <td>Angela Bassett</td>\n",
       "      <td>Loretta Devine</td>\n",
       "      <td>Lela Rochon</td>\n",
       "      <td>Gregory Hines</td>\n",
       "    </tr>\n",
       "    <tr>\n",
       "      <th>4</th>\n",
       "      <td>11862</td>\n",
       "      <td>Father of the Bride Part II</td>\n",
       "      <td>1995</td>\n",
       "      <td>Comedy</td>\n",
       "      <td>English</td>\n",
       "      <td>106</td>\n",
       "      <td>416</td>\n",
       "      <td>6.2</td>\n",
       "      <td>Charles Shyer</td>\n",
       "      <td>Nancy Meyers</td>\n",
       "      <td>Alan Silvestri</td>\n",
       "      <td>Elliot Davis</td>\n",
       "      <td>parentchildrelationship baby midlifecrisis con...</td>\n",
       "      <td>Steve Martin</td>\n",
       "      <td>Diane Keaton</td>\n",
       "      <td>Martin Short</td>\n",
       "      <td>Kimberly Williams-Paisley</td>\n",
       "      <td>George Newbern</td>\n",
       "    </tr>\n",
       "  </tbody>\n",
       "</table>\n",
       "</div>"
      ],
      "text/plain": [
       "   tmdbId  ...           actor5\n",
       "0     862  ...    Wallace Shawn\n",
       "1    8844  ...      Bonnie Hunt\n",
       "2   15602  ...     Daryl Hannah\n",
       "3   31357  ...    Gregory Hines\n",
       "4   11862  ...   George Newbern\n",
       "\n",
       "[5 rows x 18 columns]"
      ]
     },
     "execution_count": 19,
     "metadata": {
      "tags": []
     },
     "output_type": "execute_result"
    }
   ],
   "source": [
    "df.head()"
   ]
  },
  {
   "cell_type": "code",
   "execution_count": null,
   "metadata": {
    "colab": {
     "base_uri": "https://localhost:8080/",
     "height": 340
    },
    "colab_type": "code",
    "id": "hvQGSmSDglmM",
    "outputId": "57b74254-7a45-4282-e396-e8d2948ce43d"
   },
   "outputs": [
    {
     "data": {
      "text/plain": [
       "tmdbId                0\n",
       "Title                 0\n",
       "Year                  0\n",
       "Genres                0\n",
       "Language              0\n",
       "Runtime            1011\n",
       "Vote_count         1506\n",
       "Vote_avg           1512\n",
       "Director            391\n",
       "Screenplay        34036\n",
       "Original_score    34105\n",
       "Cinematography    25538\n",
       "Keywords              0\n",
       "actor1             1822\n",
       "actor2             3339\n",
       "actor3             4261\n",
       "actor4             5221\n",
       "actor5             7119\n",
       "dtype: int64"
      ]
     },
     "execution_count": 23,
     "metadata": {
      "tags": []
     },
     "output_type": "execute_result"
    }
   ],
   "source": [
    "df.isna().sum()"
   ]
  },
  {
   "cell_type": "code",
   "execution_count": null,
   "metadata": {
    "colab": {},
    "colab_type": "code",
    "id": "U5UP5nk2a90s"
   },
   "outputs": [],
   "source": [
    "df['Title'] = df['Title'].str.replace('.','')"
   ]
  },
  {
   "cell_type": "code",
   "execution_count": null,
   "metadata": {
    "colab": {},
    "colab_type": "code",
    "id": "19yrYz45g93Q"
   },
   "outputs": [],
   "source": [
    "final_df = df.drop(columns=['Screenplay','Original_score','Cinematography','actor5']).dropna(how='any')"
   ]
  },
  {
   "cell_type": "code",
   "execution_count": null,
   "metadata": {
    "colab": {
     "base_uri": "https://localhost:8080/",
     "height": 34
    },
    "colab_type": "code",
    "id": "QOW8heySqsnl",
    "outputId": "86be2611-2f52-49bc-cfed-f3db2e846d62"
   },
   "outputs": [
    {
     "data": {
      "text/plain": [
       "(47463, 14)"
      ]
     },
     "execution_count": 34,
     "metadata": {
      "tags": []
     },
     "output_type": "execute_result"
    }
   ],
   "source": [
    "final_df.shape"
   ]
  },
  {
   "cell_type": "code",
   "execution_count": null,
   "metadata": {
    "colab": {},
    "colab_type": "code",
    "id": "hafeQ63j16Sf"
   },
   "outputs": [],
   "source": [
    "final_df['Keywords'] = final_df['Keywords'].replace(np.nan, 'Not Available')"
   ]
  },
  {
   "cell_type": "code",
   "execution_count": null,
   "metadata": {
    "colab": {},
    "colab_type": "code",
    "id": "gaxqfLqd8q3k"
   },
   "outputs": [],
   "source": []
  },
  {
   "cell_type": "code",
   "execution_count": null,
   "metadata": {
    "colab": {},
    "colab_type": "code",
    "id": "R_CuP0rqvM2H"
   },
   "outputs": [],
   "source": [
    "final_df.to_csv('C:/Users/Admin/Desktop/Miniproject/Data/finalcut_movies.csv', index=False)"
   ]
  },
  {
   "cell_type": "code",
   "execution_count": null,
   "metadata": {
    "colab": {},
    "colab_type": "code",
    "id": "FoUCgreivUvA"
   },
   "outputs": [],
   "source": []
  }
 ],
 "metadata": {
  "colab": {
   "collapsed_sections": [],
   "name": "Preprocessing 3.ipynb",
   "provenance": []
  },
  "kernelspec": {
   "display_name": "Python 3",
   "language": "python",
   "name": "python3"
  },
  "language_info": {
   "codemirror_mode": {
    "name": "ipython",
    "version": 3
   },
   "file_extension": ".py",
   "mimetype": "text/x-python",
   "name": "python",
   "nbconvert_exporter": "python",
   "pygments_lexer": "ipython3",
   "version": "3.8.5"
  }
 },
 "nbformat": 4,
 "nbformat_minor": 1
}
