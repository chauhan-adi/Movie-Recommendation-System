{
 "cells": [
  {
   "cell_type": "code",
   "execution_count": 2,
   "metadata": {
    "colab": {},
    "colab_type": "code",
    "executionInfo": {
     "elapsed": 828,
     "status": "ok",
     "timestamp": 1595330990005,
     "user": {
      "displayName": "Vivek Aryan",
      "photoUrl": "https://lh3.googleusercontent.com/a-/AOh14Gjohx4ztvX2bvp4dA6DNRsJO32WGCI1HDx0fvZDEQ=s64",
      "userId": "13645402212033740919"
     },
     "user_tz": -330
    },
    "id": "Ij3R0IyGLDls"
   },
   "outputs": [],
   "source": [
    "import pandas as pd\n",
    "import numpy as np"
   ]
  },
  {
   "cell_type": "code",
   "execution_count": 3,
   "metadata": {
    "colab": {},
    "colab_type": "code",
    "executionInfo": {
     "elapsed": 3173,
     "status": "ok",
     "timestamp": 1595330994107,
     "user": {
      "displayName": "Vivek Aryan",
      "photoUrl": "https://lh3.googleusercontent.com/a-/AOh14Gjohx4ztvX2bvp4dA6DNRsJO32WGCI1HDx0fvZDEQ=s64",
      "userId": "13645402212033740919"
     },
     "user_tz": -330
    },
    "id": "oUXr4mEXnLTd"
   },
   "outputs": [],
   "source": [
    "df = pd.read_csv('C:/Users/Admin/Desktop/Miniproject/Data/cleaned_movies.csv')"
   ]
  },
  {
   "cell_type": "code",
   "execution_count": 4,
   "metadata": {
    "colab": {
     "base_uri": "https://localhost:8080/",
     "height": 204
    },
    "colab_type": "code",
    "executionInfo": {
     "elapsed": 766,
     "status": "ok",
     "timestamp": 1595330997312,
     "user": {
      "displayName": "Vivek Aryan",
      "photoUrl": "https://lh3.googleusercontent.com/a-/AOh14Gjohx4ztvX2bvp4dA6DNRsJO32WGCI1HDx0fvZDEQ=s64",
      "userId": "13645402212033740919"
     },
     "user_tz": -330
    },
    "id": "aZ26sKwWnQW3",
    "outputId": "a5bcd273-817a-4bec-ff95-dba67ece5f66"
   },
   "outputs": [
    {
     "data": {
      "text/html": [
       "<div>\n",
       "<style scoped>\n",
       "    .dataframe tbody tr th:only-of-type {\n",
       "        vertical-align: middle;\n",
       "    }\n",
       "\n",
       "    .dataframe tbody tr th {\n",
       "        vertical-align: top;\n",
       "    }\n",
       "\n",
       "    .dataframe thead th {\n",
       "        text-align: right;\n",
       "    }\n",
       "</style>\n",
       "<table border=\"1\" class=\"dataframe\">\n",
       "  <thead>\n",
       "    <tr style=\"text-align: right;\">\n",
       "      <th></th>\n",
       "      <th>Unnamed: 0</th>\n",
       "      <th>tmdbId</th>\n",
       "      <th>Title</th>\n",
       "      <th>Year</th>\n",
       "      <th>genres</th>\n",
       "    </tr>\n",
       "  </thead>\n",
       "  <tbody>\n",
       "    <tr>\n",
       "      <th>0</th>\n",
       "      <td>0</td>\n",
       "      <td>862</td>\n",
       "      <td>Toy Story</td>\n",
       "      <td>1995</td>\n",
       "      <td>Adventure|Animation|Children|Comedy|Fantasy</td>\n",
       "    </tr>\n",
       "    <tr>\n",
       "      <th>1</th>\n",
       "      <td>1</td>\n",
       "      <td>8844</td>\n",
       "      <td>Jumanji</td>\n",
       "      <td>1995</td>\n",
       "      <td>Adventure|Children|Fantasy</td>\n",
       "    </tr>\n",
       "    <tr>\n",
       "      <th>2</th>\n",
       "      <td>2</td>\n",
       "      <td>15602</td>\n",
       "      <td>Grumpier Old Men</td>\n",
       "      <td>1995</td>\n",
       "      <td>Comedy|Romance</td>\n",
       "    </tr>\n",
       "    <tr>\n",
       "      <th>3</th>\n",
       "      <td>3</td>\n",
       "      <td>31357</td>\n",
       "      <td>Waiting to Exhale</td>\n",
       "      <td>1995</td>\n",
       "      <td>Comedy|Drama|Romance</td>\n",
       "    </tr>\n",
       "    <tr>\n",
       "      <th>4</th>\n",
       "      <td>4</td>\n",
       "      <td>11862</td>\n",
       "      <td>Father of the Bride Part II</td>\n",
       "      <td>1995</td>\n",
       "      <td>Comedy</td>\n",
       "    </tr>\n",
       "  </tbody>\n",
       "</table>\n",
       "</div>"
      ],
      "text/plain": [
       "   Unnamed: 0  tmdbId  ...  Year                                       genres\n",
       "0           0     862  ...  1995  Adventure|Animation|Children|Comedy|Fantasy\n",
       "1           1    8844  ...  1995                   Adventure|Children|Fantasy\n",
       "2           2   15602  ...  1995                               Comedy|Romance\n",
       "3           3   31357  ...  1995                         Comedy|Drama|Romance\n",
       "4           4   11862  ...  1995                                       Comedy\n",
       "\n",
       "[5 rows x 5 columns]"
      ]
     },
     "execution_count": 4,
     "metadata": {
      "tags": []
     },
     "output_type": "execute_result"
    }
   ],
   "source": [
    "df.head()"
   ]
  },
  {
   "cell_type": "code",
   "execution_count": 1,
   "metadata": {
    "colab": {
     "base_uri": "https://localhost:8080/",
     "height": 170
    },
    "colab_type": "code",
    "executionInfo": {
     "elapsed": 6258,
     "status": "ok",
     "timestamp": 1595331009264,
     "user": {
      "displayName": "Vivek Aryan",
      "photoUrl": "https://lh3.googleusercontent.com/a-/AOh14Gjohx4ztvX2bvp4dA6DNRsJO32WGCI1HDx0fvZDEQ=s64",
      "userId": "13645402212033740919"
     },
     "user_tz": -330
    },
    "id": "z8a2zmRqn67L",
    "outputId": "9ae3565b-7b4d-44bb-902a-ac552a72120e"
   },
   "outputs": [
    {
     "name": "stdout",
     "output_type": "stream",
     "text": [
      "Requirement already satisfied: tmdbv3api in c:\\users\\admin\\anaconda3\\lib\\site-packages (1.7.5)\n",
      "Requirement already satisfied: requests in c:\\users\\admin\\anaconda3\\lib\\site-packages (from tmdbv3api) (2.24.0)\n",
      "Requirement already satisfied: certifi>=2017.4.17 in c:\\users\\admin\\anaconda3\\lib\\site-packages (from requests->tmdbv3api) (2020.6.20)\n",
      "Requirement already satisfied: idna<3,>=2.5 in c:\\users\\admin\\anaconda3\\lib\\site-packages (from requests->tmdbv3api) (2.10)\n",
      "Requirement already satisfied: urllib3!=1.25.0,!=1.25.1,<1.26,>=1.21.1 in c:\\users\\admin\\anaconda3\\lib\\site-packages (from requests->tmdbv3api) (1.25.11)\n",
      "Requirement already satisfied: chardet<4,>=3.0.2 in c:\\users\\admin\\anaconda3\\lib\\site-packages (from requests->tmdbv3api) (3.0.4)\n",
      "Note: you may need to restart the kernel to use updated packages.\n"
     ]
    }
   ],
   "source": [
    "%pip install tmdbv3api"
   ]
  },
  {
   "cell_type": "code",
   "execution_count": 6,
   "metadata": {
    "colab": {},
    "colab_type": "code",
    "executionInfo": {
     "elapsed": 865,
     "status": "ok",
     "timestamp": 1595331011531,
     "user": {
      "displayName": "Vivek Aryan",
      "photoUrl": "https://lh3.googleusercontent.com/a-/AOh14Gjohx4ztvX2bvp4dA6DNRsJO32WGCI1HDx0fvZDEQ=s64",
      "userId": "13645402212033740919"
     },
     "user_tz": -330
    },
    "id": "TA3PRUeHnSA5"
   },
   "outputs": [],
   "source": [
    "from tmdbv3api import TMDb\n",
    "import json\n",
    "import requests\n",
    "tmdb = TMDb()\n",
    "tmdb.api_key = 'd8a9368c0b37d91a60345f5fc99f00d4'"
   ]
  },
  {
   "cell_type": "code",
   "execution_count": 7,
   "metadata": {
    "colab": {},
    "colab_type": "code",
    "executionInfo": {
     "elapsed": 851,
     "status": "ok",
     "timestamp": 1595331087719,
     "user": {
      "displayName": "Vivek Aryan",
      "photoUrl": "https://lh3.googleusercontent.com/a-/AOh14Gjohx4ztvX2bvp4dA6DNRsJO32WGCI1HDx0fvZDEQ=s64",
      "userId": "13645402212033740919"
     },
     "user_tz": -330
    },
    "id": "dE-htwjgpp6u"
   },
   "outputs": [],
   "source": [
    "# Test df to check before running it on the main df\n",
    "test_df = df.loc[df['tmdbId'].isin([862, 8844, 15602, 97342, 11, 157336])]"
   ]
  },
  {
   "cell_type": "code",
   "execution_count": 8,
   "metadata": {
    "colab": {
     "base_uri": "https://localhost:8080/",
     "height": 235
    },
    "colab_type": "code",
    "executionInfo": {
     "elapsed": 638,
     "status": "ok",
     "timestamp": 1595331089110,
     "user": {
      "displayName": "Vivek Aryan",
      "photoUrl": "https://lh3.googleusercontent.com/a-/AOh14Gjohx4ztvX2bvp4dA6DNRsJO32WGCI1HDx0fvZDEQ=s64",
      "userId": "13645402212033740919"
     },
     "user_tz": -330
    },
    "id": "yHOCD3ZpXbQk",
    "outputId": "8e74d791-a094-4b6b-951c-3e2313328b08"
   },
   "outputs": [
    {
     "data": {
      "text/html": [
       "<div>\n",
       "<style scoped>\n",
       "    .dataframe tbody tr th:only-of-type {\n",
       "        vertical-align: middle;\n",
       "    }\n",
       "\n",
       "    .dataframe tbody tr th {\n",
       "        vertical-align: top;\n",
       "    }\n",
       "\n",
       "    .dataframe thead th {\n",
       "        text-align: right;\n",
       "    }\n",
       "</style>\n",
       "<table border=\"1\" class=\"dataframe\">\n",
       "  <thead>\n",
       "    <tr style=\"text-align: right;\">\n",
       "      <th></th>\n",
       "      <th>Unnamed: 0</th>\n",
       "      <th>tmdbId</th>\n",
       "      <th>Title</th>\n",
       "      <th>Year</th>\n",
       "      <th>genres</th>\n",
       "    </tr>\n",
       "  </thead>\n",
       "  <tbody>\n",
       "    <tr>\n",
       "      <th>0</th>\n",
       "      <td>0</td>\n",
       "      <td>862</td>\n",
       "      <td>Toy Story</td>\n",
       "      <td>1995</td>\n",
       "      <td>Adventure|Animation|Children|Comedy|Fantasy</td>\n",
       "    </tr>\n",
       "    <tr>\n",
       "      <th>1</th>\n",
       "      <td>1</td>\n",
       "      <td>8844</td>\n",
       "      <td>Jumanji</td>\n",
       "      <td>1995</td>\n",
       "      <td>Adventure|Children|Fantasy</td>\n",
       "    </tr>\n",
       "    <tr>\n",
       "      <th>2</th>\n",
       "      <td>2</td>\n",
       "      <td>15602</td>\n",
       "      <td>Grumpier Old Men</td>\n",
       "      <td>1995</td>\n",
       "      <td>Comedy|Romance</td>\n",
       "    </tr>\n",
       "    <tr>\n",
       "      <th>257</th>\n",
       "      <td>257</td>\n",
       "      <td>11</td>\n",
       "      <td>Star Wars: Episode IV - A New Hope</td>\n",
       "      <td>1977</td>\n",
       "      <td>Action|Adventure|Sci-Fi</td>\n",
       "    </tr>\n",
       "    <tr>\n",
       "      <th>22928</th>\n",
       "      <td>23115</td>\n",
       "      <td>157336</td>\n",
       "      <td>Interstellar</td>\n",
       "      <td>2014</td>\n",
       "      <td>Sci-Fi|IMAX</td>\n",
       "    </tr>\n",
       "    <tr>\n",
       "      <th>35138</th>\n",
       "      <td>35508</td>\n",
       "      <td>97342</td>\n",
       "      <td>Vedam</td>\n",
       "      <td>2010</td>\n",
       "      <td>Drama|Romance</td>\n",
       "    </tr>\n",
       "  </tbody>\n",
       "</table>\n",
       "</div>"
      ],
      "text/plain": [
       "       Unnamed: 0  tmdbId  ...  Year                                       genres\n",
       "0               0     862  ...  1995  Adventure|Animation|Children|Comedy|Fantasy\n",
       "1               1    8844  ...  1995                   Adventure|Children|Fantasy\n",
       "2               2   15602  ...  1995                               Comedy|Romance\n",
       "257           257      11  ...  1977                      Action|Adventure|Sci-Fi\n",
       "22928       23115  157336  ...  2014                                  Sci-Fi|IMAX\n",
       "35138       35508   97342  ...  2010                                Drama|Romance\n",
       "\n",
       "[6 rows x 5 columns]"
      ]
     },
     "execution_count": 8,
     "metadata": {
      "tags": []
     },
     "output_type": "execute_result"
    }
   ],
   "source": [
    "test_df"
   ]
  },
  {
   "cell_type": "code",
   "execution_count": null,
   "metadata": {
    "colab": {},
    "colab_type": "code",
    "id": "vgFrHDHUn4A9"
   },
   "outputs": [],
   "source": [
    "from tmdbv3api import Movie\n",
    "\n",
    "# Retrieving 'Genres' from TMDB\n",
    "tmdb_movie = Movie()\n",
    "def get_genre(x):\n",
    "    Genres = []\n",
    "    movie_id = x\n",
    "    response = requests.get('https://api.themoviedb.org/3/movie/{}?api_key={}&append_to_response=credits'.format(movie_id,tmdb.api_key))\n",
    "    data_json = response.json()\n",
    "    if data_json['genres']:\n",
    "        genre_str = \" \" \n",
    "        for i in range(0,len(data_json['genres'])):\n",
    "            Genres.append(data_json['genres'][i]['name'])\n",
    "        return genre_str.join(Genres)\n",
    "    else:\n",
    "        np.NaN\n",
    "\n",
    "# Retrieving 'Languages' from TMDB\n",
    "def get_lan(x):\n",
    "    lan = []\n",
    "    movie_id = x\n",
    "    response = requests.get('https://api.themoviedb.org/3/movie/{}?api_key={}&append_to_response=credits'.format(movie_id,tmdb.api_key))\n",
    "    data_json = response.json()\n",
    "    if data_json['original_language']:\n",
    "        for i in range(0,len(data_json['original_language'])):\n",
    "            lan.append(data_json['original_language'][i])\n",
    "    else:\n",
    "        np.NaN\n",
    "\n",
    "# Retrieving 'Cast' from TMDB\n",
    "def get_cast(x):\n",
    "    cast = []\n",
    "    movie_id = x\n",
    "    response = requests.get('https://api.themoviedb.org/3/movie/{}?api_key={}&append_to_response=credits'.format(movie_id,tmdb.api_key))\n",
    "    data_json = response.json()\n",
    "    if data_json['credits']['cast']:\n",
    "        for i in range(0,len(data_json['credits']['cast'])):\n",
    "          cast.append(data_json['credits']['cast'][i]['name'])\n",
    "        return cast\n",
    "    else:\n",
    "        np.NaN\n",
    "\n",
    "# Retrieving 'Crew' from TMDB\n",
    "def get_crew(x):\n",
    "    crew = []\n",
    "    movie_id = x\n",
    "    response = requests.get('https://api.themoviedb.org/3/movie/{}?api_key={}&append_to_response=credits'.format(movie_id,tmdb.api_key))\n",
    "    data_json = response.json()\n",
    "    if data_json['credits']['crew']:\n",
    "        for i in range(0,len(data_json['credits']['crew']['departmenting'=='Directing'])):\n",
    "          #crew.append(data_json['credits']['crew'][i]['department'])\n",
    "          crew.append(data_json['credits']['crew'][i]['name'])\n",
    "        return crew\n",
    "    else:\n",
    "        np.NaN\n",
    "\n",
    "# Retrieving 'Runtime' from TMDB\n",
    "def get_runtime(x):\n",
    "    runtime = []\n",
    "    movie_id = x\n",
    "    #print(movie_id)\n",
    "    response = requests.get('https://api.themoviedb.org/3/movie/{}?api_key={}&append_to_response=credits'.format(movie_id,tmdb.api_key))\n",
    "    data_json = response.json()\n",
    "    if data_json['runtime']:\n",
    "      #print(data_json['runtime'])\n",
    "      #runtime_data = data_json['runtime']\n",
    "      runtime.append(data_json['runtime'])\n",
    "      return runtime\n",
    "    else:\n",
    "        np.NaN\n",
    "\n",
    "# Retrieving 'Vote Count' from TMDB\n",
    "def get_vote_count(x):\n",
    "    vote_count = []\n",
    "    movie_id = x\n",
    "    #print(movie_id)\n",
    "    response = requests.get('https://api.themoviedb.org/3/movie/{}?api_key={}&append_to_response=credits'.format(movie_id,tmdb.api_key))\n",
    "    data_json = response.json()\n",
    "    if data_json['vote_count']:\n",
    "      #print(data_json['vote_count'])\n",
    "      #runtime_data = data_json['vote_count']\n",
    "      vote_count.append(data_json['vote_count'])\n",
    "      return vote_count\n",
    "    else:\n",
    "        np.NaN\n",
    "\n",
    "# Retrieving 'Avergave Rating' from TMDB\n",
    "def get_vote_avg(x):\n",
    "    vote_average = []\n",
    "    movie_id = x\n",
    "    response = requests.get('https://api.themoviedb.org/3/movie/{}?api_key={}&append_to_response=credits'.format(movie_id,tmdb.api_key))\n",
    "    data_json = response.json()\n",
    "    if data_json['vote_average']:\n",
    "      vote_average.append(data_json['vote_average'])\n",
    "      return vote_average\n",
    "    else:\n",
    "        np.NaN\n",
    "\n",
    "# Retrieving 'Directors' from TMDB\n",
    "def get_direc(x):\n",
    "    crew = []\n",
    "    movie_id = x\n",
    "    response = requests.get('https://api.themoviedb.org/3/movie/{}?api_key={}&append_to_response=credits'.format(movie_id,tmdb.api_key))\n",
    "    data_json = response.json()\n",
    "    if data_json['credits']['crew']:\n",
    "        for i in range(0,len(data_json['credits']['crew'])):\n",
    "          for value in data_json['credits']['crew']:\n",
    "            if value['job'] == 'Director':\n",
    "              crew.append(value['name'])\n",
    "              return crew\n",
    "    else:\n",
    "        np.NaN\n",
    "\n",
    "# Retrieving 'Screenplay Writers' from TMDB\n",
    "def get_screenplay(x):\n",
    "    crew = []\n",
    "    movie_id = x\n",
    "    response = requests.get('https://api.themoviedb.org/3/movie/{}?api_key={}&append_to_response=credits'.format(movie_id,tmdb.api_key))\n",
    "    data_json = response.json()\n",
    "    if data_json['credits']['crew']:\n",
    "        for i in range(0,len(data_json['credits']['crew'])):\n",
    "          for value in data_json['credits']['crew']:\n",
    "            if value['job'] == 'Screenplay':\n",
    "              crew.append(value['name'])\n",
    "              return crew\n",
    "    else:\n",
    "        np.NaN\n",
    "\n",
    "# Retrieving 'Music Composers' from TMDB\n",
    "def get_bgs(x):\n",
    "    crew = []\n",
    "    movie_id = x\n",
    "    response = requests.get('https://api.themoviedb.org/3/movie/{}?api_key={}&append_to_response=credits'.format(movie_id,tmdb.api_key))\n",
    "    data_json = response.json()\n",
    "    if data_json['credits']['crew']:\n",
    "        for i in range(0,len(data_json['credits']['crew'])):\n",
    "          for value in data_json['credits']['crew']:\n",
    "            if value['job'] == 'Original Music Composer':\n",
    "              crew.append(value['name'])\n",
    "              return crew\n",
    "    else:\n",
    "        np.NaN\n",
    "\n",
    "# Retrieving 'Cinematographers' from TMDB\n",
    "def get_cinematography(x):\n",
    "    crew = []\n",
    "    movie_id = x\n",
    "    response = requests.get('https://api.themoviedb.org/3/movie/{}?api_key={}&append_to_response=credits'.format(movie_id,tmdb.api_key))\n",
    "    data_json = response.json()\n",
    "    if data_json['credits']['crew']:\n",
    "        for i in range(0,len(data_json['credits']['crew'])):\n",
    "          for value in data_json['credits']['crew']:\n",
    "            if value['job'] == 'Director of Photography':\n",
    "              crew.append(value['name'])\n",
    "              return crew\n",
    "    else:\n",
    "        np.NaN\n",
    "\n",
    "# Retrieving 'Keywords' from TMDB\n",
    "def get_keywords(x):\n",
    "    keywords = []\n",
    "    movie_id = x\n",
    "    response = requests.get('https://api.themoviedb.org/3/movie/{}?api_key={}&append_to_response=keywords'.format(movie_id,tmdb.api_key))\n",
    "    data_json = response.json()\n",
    "    if data_json['keywords']:\n",
    "        for i in range(0,len(data_json['keywords']['keywords'])):\n",
    "            keywords.append(data_json['keywords']['keywords'][i]['name'])\n",
    "        return keywords\n",
    "    else:\n",
    "        np.NaN"
   ]
  },
  {
   "cell_type": "code",
   "execution_count": null,
   "metadata": {
    "colab": {},
    "colab_type": "code",
    "id": "aV2wKLhEoJCR"
   },
   "outputs": [],
   "source": [
    "df['Genres'] = df['tmdbId'].map(lambda x: get_genre(x))"
   ]
  },
  {
   "cell_type": "code",
   "execution_count": null,
   "metadata": {
    "colab": {
     "base_uri": "https://localhost:8080/",
     "height": 136
    },
    "colab_type": "code",
    "executionInfo": {
     "elapsed": 761,
     "status": "ok",
     "timestamp": 1594711546944,
     "user": {
      "displayName": "Vivek Aryan",
      "photoUrl": "https://lh3.googleusercontent.com/a-/AOh14Gjohx4ztvX2bvp4dA6DNRsJO32WGCI1HDx0fvZDEQ=s64",
      "userId": "13645402212033740919"
     },
     "user_tz": -330
    },
    "id": "6RsfBqGtpXFJ",
    "outputId": "d29d1320-b6b1-4d3e-c8e6-491a93312ce0"
   },
   "outputs": [
    {
     "data": {
      "text/plain": [
       "Unnamed: 0    False\n",
       "tmdbId        False\n",
       "Title          True\n",
       "Year          False\n",
       "genres        False\n",
       "Genres         True\n",
       "dtype: bool"
      ]
     },
     "execution_count": 11,
     "metadata": {
      "tags": []
     },
     "output_type": "execute_result"
    }
   ],
   "source": [
    "df.isna().any()"
   ]
  },
  {
   "cell_type": "code",
   "execution_count": null,
   "metadata": {
    "colab": {
     "base_uri": "https://localhost:8080/",
     "height": 34
    },
    "colab_type": "code",
    "executionInfo": {
     "elapsed": 889,
     "status": "ok",
     "timestamp": 1594711596543,
     "user": {
      "displayName": "Vivek Aryan",
      "photoUrl": "https://lh3.googleusercontent.com/a-/AOh14Gjohx4ztvX2bvp4dA6DNRsJO32WGCI1HDx0fvZDEQ=s64",
      "userId": "13645402212033740919"
     },
     "user_tz": -330
    },
    "id": "yJ18R5IYNxZf",
    "outputId": "30b73114-17bc-412f-a0e0-63ca4e4b6b1b"
   },
   "outputs": [
    {
     "data": {
      "text/plain": [
       "(56987, 6)"
      ]
     },
     "execution_count": 12,
     "metadata": {
      "tags": []
     },
     "output_type": "execute_result"
    }
   ],
   "source": [
    "df.shape"
   ]
  },
  {
   "cell_type": "code",
   "execution_count": null,
   "metadata": {
    "colab": {
     "base_uri": "https://localhost:8080/",
     "height": 136
    },
    "colab_type": "code",
    "executionInfo": {
     "elapsed": 656,
     "status": "ok",
     "timestamp": 1594711700586,
     "user": {
      "displayName": "Vivek Aryan",
      "photoUrl": "https://lh3.googleusercontent.com/a-/AOh14Gjohx4ztvX2bvp4dA6DNRsJO32WGCI1HDx0fvZDEQ=s64",
      "userId": "13645402212033740919"
     },
     "user_tz": -330
    },
    "id": "LbNxgb2PN9bN",
    "outputId": "2b70d572-6ac3-4fd1-b308-9b6bf0c558db"
   },
   "outputs": [
    {
     "data": {
      "text/plain": [
       "Unnamed: 0       0\n",
       "tmdbId           0\n",
       "Title            2\n",
       "Year             0\n",
       "genres           0\n",
       "Genres        1675\n",
       "dtype: int64"
      ]
     },
     "execution_count": 13,
     "metadata": {
      "tags": []
     },
     "output_type": "execute_result"
    }
   ],
   "source": [
    "df.isna().sum()"
   ]
  },
  {
   "cell_type": "code",
   "execution_count": null,
   "metadata": {
    "colab": {
     "base_uri": "https://localhost:8080/",
     "height": 419
    },
    "colab_type": "code",
    "executionInfo": {
     "elapsed": 889,
     "status": "ok",
     "timestamp": 1594711815786,
     "user": {
      "displayName": "Vivek Aryan",
      "photoUrl": "https://lh3.googleusercontent.com/a-/AOh14Gjohx4ztvX2bvp4dA6DNRsJO32WGCI1HDx0fvZDEQ=s64",
      "userId": "13645402212033740919"
     },
     "user_tz": -330
    },
    "id": "Gy6knC37OW8o",
    "outputId": "30951909-ac8f-44f2-f072-e8c146c16f32"
   },
   "outputs": [
    {
     "data": {
      "text/html": [
       "<div>\n",
       "<style scoped>\n",
       "    .dataframe tbody tr th:only-of-type {\n",
       "        vertical-align: middle;\n",
       "    }\n",
       "\n",
       "    .dataframe tbody tr th {\n",
       "        vertical-align: top;\n",
       "    }\n",
       "\n",
       "    .dataframe thead th {\n",
       "        text-align: right;\n",
       "    }\n",
       "</style>\n",
       "<table border=\"1\" class=\"dataframe\">\n",
       "  <thead>\n",
       "    <tr style=\"text-align: right;\">\n",
       "      <th></th>\n",
       "      <th>Unnamed: 0</th>\n",
       "      <th>tmdbId</th>\n",
       "      <th>Title</th>\n",
       "      <th>Year</th>\n",
       "      <th>genres</th>\n",
       "      <th>Genres</th>\n",
       "    </tr>\n",
       "  </thead>\n",
       "  <tbody>\n",
       "    <tr>\n",
       "      <th>83</th>\n",
       "      <td>83</td>\n",
       "      <td>188588</td>\n",
       "      <td>Last Summer in the Hamptons</td>\n",
       "      <td>1995</td>\n",
       "      <td>Comedy|Drama</td>\n",
       "      <td>None</td>\n",
       "    </tr>\n",
       "    <tr>\n",
       "      <th>126</th>\n",
       "      <td>126</td>\n",
       "      <td>290157</td>\n",
       "      <td>Jupiter's Wife</td>\n",
       "      <td>1994</td>\n",
       "      <td>Documentary</td>\n",
       "      <td>None</td>\n",
       "    </tr>\n",
       "    <tr>\n",
       "      <th>137</th>\n",
       "      <td>137</td>\n",
       "      <td>124639</td>\n",
       "      <td>Target</td>\n",
       "      <td>1995</td>\n",
       "      <td>Action|Drama</td>\n",
       "      <td>None</td>\n",
       "    </tr>\n",
       "    <tr>\n",
       "      <th>391</th>\n",
       "      <td>391</td>\n",
       "      <td>267188</td>\n",
       "      <td>Desert Winds</td>\n",
       "      <td>1995</td>\n",
       "      <td>Drama|Fantasy|Romance</td>\n",
       "      <td>None</td>\n",
       "    </tr>\n",
       "    <tr>\n",
       "      <th>399</th>\n",
       "      <td>399</td>\n",
       "      <td>172923</td>\n",
       "      <td>Two Crimes</td>\n",
       "      <td>1995</td>\n",
       "      <td>Comedy|Crime|Drama</td>\n",
       "      <td>None</td>\n",
       "    </tr>\n",
       "    <tr>\n",
       "      <th>...</th>\n",
       "      <td>...</td>\n",
       "      <td>...</td>\n",
       "      <td>...</td>\n",
       "      <td>...</td>\n",
       "      <td>...</td>\n",
       "      <td>...</td>\n",
       "    </tr>\n",
       "    <tr>\n",
       "      <th>56939</th>\n",
       "      <td>57869</td>\n",
       "      <td>210412</td>\n",
       "      <td>Refutation of All the Judgements, Pro or Con, ...</td>\n",
       "      <td>1975</td>\n",
       "      <td>(no genres listed)</td>\n",
       "      <td>None</td>\n",
       "    </tr>\n",
       "    <tr>\n",
       "      <th>56940</th>\n",
       "      <td>57870</td>\n",
       "      <td>180554</td>\n",
       "      <td>On the Passage of a Few People through a Relat...</td>\n",
       "      <td>1959</td>\n",
       "      <td>(no genres listed)</td>\n",
       "      <td>None</td>\n",
       "    </tr>\n",
       "    <tr>\n",
       "      <th>56941</th>\n",
       "      <td>57871</td>\n",
       "      <td>180549</td>\n",
       "      <td>Hurlements en faveur de Sade</td>\n",
       "      <td>1952</td>\n",
       "      <td>(no genres listed)</td>\n",
       "      <td>None</td>\n",
       "    </tr>\n",
       "    <tr>\n",
       "      <th>56968</th>\n",
       "      <td>57898</td>\n",
       "      <td>549443</td>\n",
       "      <td>Rafinha Bastos: Ultimatum</td>\n",
       "      <td>2018</td>\n",
       "      <td>(no genres listed)</td>\n",
       "      <td>None</td>\n",
       "    </tr>\n",
       "    <tr>\n",
       "      <th>56979</th>\n",
       "      <td>57909</td>\n",
       "      <td>65924</td>\n",
       "      <td>Isabelle Eberhardt</td>\n",
       "      <td>1991</td>\n",
       "      <td>(no genres listed)</td>\n",
       "      <td>None</td>\n",
       "    </tr>\n",
       "  </tbody>\n",
       "</table>\n",
       "<p>1676 rows × 6 columns</p>\n",
       "</div>"
      ],
      "text/plain": [
       "       Unnamed: 0  tmdbId  ...                 genres Genres\n",
       "83             83  188588  ...           Comedy|Drama   None\n",
       "126           126  290157  ...            Documentary   None\n",
       "137           137  124639  ...           Action|Drama   None\n",
       "391           391  267188  ...  Drama|Fantasy|Romance   None\n",
       "399           399  172923  ...     Comedy|Crime|Drama   None\n",
       "...           ...     ...  ...                    ...    ...\n",
       "56939       57869  210412  ...     (no genres listed)   None\n",
       "56940       57870  180554  ...     (no genres listed)   None\n",
       "56941       57871  180549  ...     (no genres listed)   None\n",
       "56968       57898  549443  ...     (no genres listed)   None\n",
       "56979       57909   65924  ...     (no genres listed)   None\n",
       "\n",
       "[1676 rows x 6 columns]"
      ]
     },
     "execution_count": 14,
     "metadata": {
      "tags": []
     },
     "output_type": "execute_result"
    }
   ],
   "source": [
    "df[df.isna().any(axis=1)]"
   ]
  },
  {
   "cell_type": "code",
   "execution_count": null,
   "metadata": {
    "colab": {
     "base_uri": "https://localhost:8080/",
     "height": 111
    },
    "colab_type": "code",
    "executionInfo": {
     "elapsed": 843,
     "status": "ok",
     "timestamp": 1594711935632,
     "user": {
      "displayName": "Vivek Aryan",
      "photoUrl": "https://lh3.googleusercontent.com/a-/AOh14Gjohx4ztvX2bvp4dA6DNRsJO32WGCI1HDx0fvZDEQ=s64",
      "userId": "13645402212033740919"
     },
     "user_tz": -330
    },
    "id": "TrSOPN-eOzH9",
    "outputId": "26f2c34f-d132-4a31-df75-8d345ff7a9cd"
   },
   "outputs": [
    {
     "data": {
      "text/html": [
       "<div>\n",
       "<style scoped>\n",
       "    .dataframe tbody tr th:only-of-type {\n",
       "        vertical-align: middle;\n",
       "    }\n",
       "\n",
       "    .dataframe tbody tr th {\n",
       "        vertical-align: top;\n",
       "    }\n",
       "\n",
       "    .dataframe thead th {\n",
       "        text-align: right;\n",
       "    }\n",
       "</style>\n",
       "<table border=\"1\" class=\"dataframe\">\n",
       "  <thead>\n",
       "    <tr style=\"text-align: right;\">\n",
       "      <th></th>\n",
       "      <th>Unnamed: 0</th>\n",
       "      <th>tmdbId</th>\n",
       "      <th>Title</th>\n",
       "      <th>Year</th>\n",
       "      <th>genres</th>\n",
       "      <th>Genres</th>\n",
       "    </tr>\n",
       "  </thead>\n",
       "  <tbody>\n",
       "    <tr>\n",
       "      <th>15844</th>\n",
       "      <td>15936</td>\n",
       "      <td>45261</td>\n",
       "      <td>NaN</td>\n",
       "      <td>2009</td>\n",
       "      <td>Comedy|Drama</td>\n",
       "      <td>Drama Comedy Romance</td>\n",
       "    </tr>\n",
       "    <tr>\n",
       "      <th>24583</th>\n",
       "      <td>24785</td>\n",
       "      <td>292445</td>\n",
       "      <td>NaN</td>\n",
       "      <td>1988</td>\n",
       "      <td>(no genres listed)</td>\n",
       "      <td>None</td>\n",
       "    </tr>\n",
       "  </tbody>\n",
       "</table>\n",
       "</div>"
      ],
      "text/plain": [
       "       Unnamed: 0  tmdbId Title  Year              genres                Genres\n",
       "15844       15936   45261   NaN  2009        Comedy|Drama  Drama Comedy Romance\n",
       "24583       24785  292445   NaN  1988  (no genres listed)                  None"
      ]
     },
     "execution_count": 15,
     "metadata": {
      "tags": []
     },
     "output_type": "execute_result"
    }
   ],
   "source": [
    "df[df['Title'].isnull()]"
   ]
  },
  {
   "cell_type": "code",
   "execution_count": null,
   "metadata": {
    "colab": {},
    "colab_type": "code",
    "id": "EXmopw0PQJ0d"
   },
   "outputs": [],
   "source": [
    "df = df.dropna(subset=['Genres'])"
   ]
  },
  {
   "cell_type": "code",
   "execution_count": null,
   "metadata": {
    "colab": {
     "base_uri": "https://localhost:8080/",
     "height": 34
    },
    "colab_type": "code",
    "executionInfo": {
     "elapsed": 700,
     "status": "ok",
     "timestamp": 1594712348328,
     "user": {
      "displayName": "Vivek Aryan",
      "photoUrl": "https://lh3.googleusercontent.com/a-/AOh14Gjohx4ztvX2bvp4dA6DNRsJO32WGCI1HDx0fvZDEQ=s64",
      "userId": "13645402212033740919"
     },
     "user_tz": -330
    },
    "id": "f4NlpD-AQsxf",
    "outputId": "7229d10a-d59e-4628-ec8d-152c8a59d2a6"
   },
   "outputs": [
    {
     "data": {
      "text/plain": [
       "(55312, 6)"
      ]
     },
     "execution_count": 21,
     "metadata": {
      "tags": []
     },
     "output_type": "execute_result"
    }
   ],
   "source": [
    "df.shape"
   ]
  },
  {
   "cell_type": "code",
   "execution_count": null,
   "metadata": {
    "colab": {},
    "colab_type": "code",
    "id": "jvIFQaEgQyYl"
   },
   "outputs": [],
   "source": [
    "df = df.drop(columns = ['Unnamed: 0', 'genres'])"
   ]
  },
  {
   "cell_type": "code",
   "execution_count": null,
   "metadata": {
    "colab": {
     "base_uri": "https://localhost:8080/",
     "height": 204
    },
    "colab_type": "code",
    "executionInfo": {
     "elapsed": 827,
     "status": "ok",
     "timestamp": 1594712390537,
     "user": {
      "displayName": "Vivek Aryan",
      "photoUrl": "https://lh3.googleusercontent.com/a-/AOh14Gjohx4ztvX2bvp4dA6DNRsJO32WGCI1HDx0fvZDEQ=s64",
      "userId": "13645402212033740919"
     },
     "user_tz": -330
    },
    "id": "h8pRc5l_Q-Yl",
    "outputId": "3960b294-b824-4b36-887c-2c34ae377936"
   },
   "outputs": [
    {
     "data": {
      "text/html": [
       "<div>\n",
       "<style scoped>\n",
       "    .dataframe tbody tr th:only-of-type {\n",
       "        vertical-align: middle;\n",
       "    }\n",
       "\n",
       "    .dataframe tbody tr th {\n",
       "        vertical-align: top;\n",
       "    }\n",
       "\n",
       "    .dataframe thead th {\n",
       "        text-align: right;\n",
       "    }\n",
       "</style>\n",
       "<table border=\"1\" class=\"dataframe\">\n",
       "  <thead>\n",
       "    <tr style=\"text-align: right;\">\n",
       "      <th></th>\n",
       "      <th>tmdbId</th>\n",
       "      <th>Title</th>\n",
       "      <th>Year</th>\n",
       "      <th>Genres</th>\n",
       "    </tr>\n",
       "  </thead>\n",
       "  <tbody>\n",
       "    <tr>\n",
       "      <th>0</th>\n",
       "      <td>862</td>\n",
       "      <td>Toy Story</td>\n",
       "      <td>1995</td>\n",
       "      <td>Animation Comedy Family</td>\n",
       "    </tr>\n",
       "    <tr>\n",
       "      <th>1</th>\n",
       "      <td>8844</td>\n",
       "      <td>Jumanji</td>\n",
       "      <td>1995</td>\n",
       "      <td>Adventure Fantasy Family</td>\n",
       "    </tr>\n",
       "    <tr>\n",
       "      <th>2</th>\n",
       "      <td>15602</td>\n",
       "      <td>Grumpier Old Men</td>\n",
       "      <td>1995</td>\n",
       "      <td>Romance Comedy</td>\n",
       "    </tr>\n",
       "    <tr>\n",
       "      <th>3</th>\n",
       "      <td>31357</td>\n",
       "      <td>Waiting to Exhale</td>\n",
       "      <td>1995</td>\n",
       "      <td>Comedy Drama Romance</td>\n",
       "    </tr>\n",
       "    <tr>\n",
       "      <th>4</th>\n",
       "      <td>11862</td>\n",
       "      <td>Father of the Bride Part II</td>\n",
       "      <td>1995</td>\n",
       "      <td>Comedy</td>\n",
       "    </tr>\n",
       "  </tbody>\n",
       "</table>\n",
       "</div>"
      ],
      "text/plain": [
       "   tmdbId                        Title  Year                    Genres\n",
       "0     862                    Toy Story  1995   Animation Comedy Family\n",
       "1    8844                      Jumanji  1995  Adventure Fantasy Family\n",
       "2   15602             Grumpier Old Men  1995            Romance Comedy\n",
       "3   31357            Waiting to Exhale  1995      Comedy Drama Romance\n",
       "4   11862  Father of the Bride Part II  1995                    Comedy"
      ]
     },
     "execution_count": 23,
     "metadata": {
      "tags": []
     },
     "output_type": "execute_result"
    }
   ],
   "source": [
    "df.head()"
   ]
  },
  {
   "cell_type": "code",
   "execution_count": null,
   "metadata": {
    "colab": {
     "base_uri": "https://localhost:8080/",
     "height": 102
    },
    "colab_type": "code",
    "executionInfo": {
     "elapsed": 700,
     "status": "ok",
     "timestamp": 1594713254835,
     "user": {
      "displayName": "Vivek Aryan",
      "photoUrl": "https://lh3.googleusercontent.com/a-/AOh14Gjohx4ztvX2bvp4dA6DNRsJO32WGCI1HDx0fvZDEQ=s64",
      "userId": "13645402212033740919"
     },
     "user_tz": -330
    },
    "id": "EZnUJy3rQ_ac",
    "outputId": "6fd45445-838d-4c4d-dfec-4717811e70ac"
   },
   "outputs": [
    {
     "data": {
      "text/plain": [
       "tmdbId    0\n",
       "Title     1\n",
       "Year      0\n",
       "Genres    0\n",
       "dtype: int64"
      ]
     },
     "execution_count": 26,
     "metadata": {
      "tags": []
     },
     "output_type": "execute_result"
    }
   ],
   "source": [
    "df.isna().sum()"
   ]
  },
  {
   "cell_type": "code",
   "execution_count": null,
   "metadata": {
    "colab": {
     "base_uri": "https://localhost:8080/",
     "height": 80
    },
    "colab_type": "code",
    "executionInfo": {
     "elapsed": 1165,
     "status": "ok",
     "timestamp": 1594713320693,
     "user": {
      "displayName": "Vivek Aryan",
      "photoUrl": "https://lh3.googleusercontent.com/a-/AOh14Gjohx4ztvX2bvp4dA6DNRsJO32WGCI1HDx0fvZDEQ=s64",
      "userId": "13645402212033740919"
     },
     "user_tz": -330
    },
    "id": "4Npg3AuURMsQ",
    "outputId": "d876fc19-9725-43e6-a4b2-5d62228932e3"
   },
   "outputs": [
    {
     "data": {
      "text/html": [
       "<div>\n",
       "<style scoped>\n",
       "    .dataframe tbody tr th:only-of-type {\n",
       "        vertical-align: middle;\n",
       "    }\n",
       "\n",
       "    .dataframe tbody tr th {\n",
       "        vertical-align: top;\n",
       "    }\n",
       "\n",
       "    .dataframe thead th {\n",
       "        text-align: right;\n",
       "    }\n",
       "</style>\n",
       "<table border=\"1\" class=\"dataframe\">\n",
       "  <thead>\n",
       "    <tr style=\"text-align: right;\">\n",
       "      <th></th>\n",
       "      <th>tmdbId</th>\n",
       "      <th>Title</th>\n",
       "      <th>Year</th>\n",
       "      <th>Genres</th>\n",
       "    </tr>\n",
       "  </thead>\n",
       "  <tbody>\n",
       "    <tr>\n",
       "      <th>15844</th>\n",
       "      <td>45261</td>\n",
       "      <td>NaN</td>\n",
       "      <td>2009</td>\n",
       "      <td>Drama Comedy Romance</td>\n",
       "    </tr>\n",
       "  </tbody>\n",
       "</table>\n",
       "</div>"
      ],
      "text/plain": [
       "       tmdbId Title  Year                Genres\n",
       "15844   45261   NaN  2009  Drama Comedy Romance"
      ]
     },
     "execution_count": 27,
     "metadata": {
      "tags": []
     },
     "output_type": "execute_result"
    }
   ],
   "source": [
    "df[df['Title'].isnull()]"
   ]
  },
  {
   "cell_type": "code",
   "execution_count": null,
   "metadata": {
    "colab": {},
    "colab_type": "code",
    "id": "yqa5WcDmUiaw"
   },
   "outputs": [],
   "source": [
    "df.loc[15844,'Title'] = '(Untitled)'"
   ]
  },
  {
   "cell_type": "code",
   "execution_count": null,
   "metadata": {
    "colab": {
     "base_uri": "https://localhost:8080/",
     "height": 51
    },
    "colab_type": "code",
    "executionInfo": {
     "elapsed": 810,
     "status": "ok",
     "timestamp": 1594713451954,
     "user": {
      "displayName": "Vivek Aryan",
      "photoUrl": "https://lh3.googleusercontent.com/a-/AOh14Gjohx4ztvX2bvp4dA6DNRsJO32WGCI1HDx0fvZDEQ=s64",
      "userId": "13645402212033740919"
     },
     "user_tz": -330
    },
    "id": "5ZVpu00VU27m",
    "outputId": "71e95fe3-cc4b-480b-c8d4-f90a38e8407e"
   },
   "outputs": [
    {
     "name": "stdout",
     "output_type": "stream",
     "text": [
      "       tmdbId       Title  Year                Genres\n",
      "15844   45261  (Untitled)  2009  Drama Comedy Romance\n"
     ]
    }
   ],
   "source": [
    "print(df.loc[[15844]])"
   ]
  },
  {
   "cell_type": "code",
   "execution_count": null,
   "metadata": {
    "colab": {
     "base_uri": "https://localhost:8080/",
     "height": 102
    },
    "colab_type": "code",
    "executionInfo": {
     "elapsed": 655,
     "status": "ok",
     "timestamp": 1594713479682,
     "user": {
      "displayName": "Vivek Aryan",
      "photoUrl": "https://lh3.googleusercontent.com/a-/AOh14Gjohx4ztvX2bvp4dA6DNRsJO32WGCI1HDx0fvZDEQ=s64",
      "userId": "13645402212033740919"
     },
     "user_tz": -330
    },
    "id": "IiY3bUlrU5om",
    "outputId": "cc206598-8f51-4119-970d-269f3aac52ad"
   },
   "outputs": [
    {
     "data": {
      "text/plain": [
       "tmdbId    0\n",
       "Title     0\n",
       "Year      0\n",
       "Genres    0\n",
       "dtype: int64"
      ]
     },
     "execution_count": 32,
     "metadata": {
      "tags": []
     },
     "output_type": "execute_result"
    }
   ],
   "source": [
    "df.isna().sum()"
   ]
  },
  {
   "cell_type": "code",
   "execution_count": null,
   "metadata": {
    "colab": {},
    "colab_type": "code",
    "id": "sftU_IpCVwKG"
   },
   "outputs": [],
   "source": [
    "df['Language'] = df['tmdbId'].map(lambda x: get_lan(x))"
   ]
  },
  {
   "cell_type": "code",
   "execution_count": null,
   "metadata": {
    "colab": {
     "base_uri": "https://localhost:8080/",
     "height": 359
    },
    "colab_type": "code",
    "executionInfo": {
     "elapsed": 985,
     "status": "ok",
     "timestamp": 1594718635406,
     "user": {
      "displayName": "Vivek Aryan",
      "photoUrl": "https://lh3.googleusercontent.com/a-/AOh14Gjohx4ztvX2bvp4dA6DNRsJO32WGCI1HDx0fvZDEQ=s64",
      "userId": "13645402212033740919"
     },
     "user_tz": -330
    },
    "id": "VdbLTFleV_FU",
    "outputId": "d408abef-7688-481b-dc49-ce040b31de66"
   },
   "outputs": [
    {
     "data": {
      "text/html": [
       "<div>\n",
       "<style scoped>\n",
       "    .dataframe tbody tr th:only-of-type {\n",
       "        vertical-align: middle;\n",
       "    }\n",
       "\n",
       "    .dataframe tbody tr th {\n",
       "        vertical-align: top;\n",
       "    }\n",
       "\n",
       "    .dataframe thead th {\n",
       "        text-align: right;\n",
       "    }\n",
       "</style>\n",
       "<table border=\"1\" class=\"dataframe\">\n",
       "  <thead>\n",
       "    <tr style=\"text-align: right;\">\n",
       "      <th></th>\n",
       "      <th>tmdbId</th>\n",
       "      <th>Title</th>\n",
       "      <th>Year</th>\n",
       "      <th>Genres</th>\n",
       "      <th>Language</th>\n",
       "    </tr>\n",
       "  </thead>\n",
       "  <tbody>\n",
       "    <tr>\n",
       "      <th>0</th>\n",
       "      <td>862</td>\n",
       "      <td>Toy Story</td>\n",
       "      <td>1995</td>\n",
       "      <td>Animation Comedy Family</td>\n",
       "      <td>e n</td>\n",
       "    </tr>\n",
       "    <tr>\n",
       "      <th>1</th>\n",
       "      <td>8844</td>\n",
       "      <td>Jumanji</td>\n",
       "      <td>1995</td>\n",
       "      <td>Adventure Fantasy Family</td>\n",
       "      <td>e n</td>\n",
       "    </tr>\n",
       "    <tr>\n",
       "      <th>2</th>\n",
       "      <td>15602</td>\n",
       "      <td>Grumpier Old Men</td>\n",
       "      <td>1995</td>\n",
       "      <td>Romance Comedy</td>\n",
       "      <td>e n</td>\n",
       "    </tr>\n",
       "    <tr>\n",
       "      <th>3</th>\n",
       "      <td>31357</td>\n",
       "      <td>Waiting to Exhale</td>\n",
       "      <td>1995</td>\n",
       "      <td>Comedy Drama Romance</td>\n",
       "      <td>e n</td>\n",
       "    </tr>\n",
       "    <tr>\n",
       "      <th>4</th>\n",
       "      <td>11862</td>\n",
       "      <td>Father of the Bride Part II</td>\n",
       "      <td>1995</td>\n",
       "      <td>Comedy</td>\n",
       "      <td>e n</td>\n",
       "    </tr>\n",
       "    <tr>\n",
       "      <th>5</th>\n",
       "      <td>949</td>\n",
       "      <td>Heat</td>\n",
       "      <td>1995</td>\n",
       "      <td>Action Crime Drama Thriller</td>\n",
       "      <td>e n</td>\n",
       "    </tr>\n",
       "    <tr>\n",
       "      <th>6</th>\n",
       "      <td>11860</td>\n",
       "      <td>Sabrina</td>\n",
       "      <td>1995</td>\n",
       "      <td>Comedy Romance</td>\n",
       "      <td>e n</td>\n",
       "    </tr>\n",
       "    <tr>\n",
       "      <th>7</th>\n",
       "      <td>45325</td>\n",
       "      <td>Tom and Huck</td>\n",
       "      <td>1995</td>\n",
       "      <td>Action Adventure Drama Family</td>\n",
       "      <td>e n</td>\n",
       "    </tr>\n",
       "    <tr>\n",
       "      <th>8</th>\n",
       "      <td>9091</td>\n",
       "      <td>Sudden Death</td>\n",
       "      <td>1995</td>\n",
       "      <td>Action Adventure Thriller Drama</td>\n",
       "      <td>e n</td>\n",
       "    </tr>\n",
       "    <tr>\n",
       "      <th>9</th>\n",
       "      <td>710</td>\n",
       "      <td>GoldenEye</td>\n",
       "      <td>1995</td>\n",
       "      <td>Adventure Action Thriller</td>\n",
       "      <td>e n</td>\n",
       "    </tr>\n",
       "  </tbody>\n",
       "</table>\n",
       "</div>"
      ],
      "text/plain": [
       "   tmdbId  ... Language\n",
       "0     862  ...      e n\n",
       "1    8844  ...      e n\n",
       "2   15602  ...      e n\n",
       "3   31357  ...      e n\n",
       "4   11862  ...      e n\n",
       "5     949  ...      e n\n",
       "6   11860  ...      e n\n",
       "7   45325  ...      e n\n",
       "8    9091  ...      e n\n",
       "9     710  ...      e n\n",
       "\n",
       "[10 rows x 5 columns]"
      ]
     },
     "execution_count": 73,
     "metadata": {
      "tags": []
     },
     "output_type": "execute_result"
    }
   ],
   "source": [
    "df.head(10)"
   ]
  },
  {
   "cell_type": "code",
   "execution_count": null,
   "metadata": {
    "colab": {},
    "colab_type": "code",
    "id": "-5lP_R6fqHhP"
   },
   "outputs": [],
   "source": [
    "df['Language'] = df.Language.str.replace(' ', '')"
   ]
  },
  {
   "cell_type": "code",
   "execution_count": null,
   "metadata": {
    "colab": {
     "base_uri": "https://localhost:8080/",
     "height": 187
    },
    "colab_type": "code",
    "executionInfo": {
     "elapsed": 579,
     "status": "ok",
     "timestamp": 1594719034747,
     "user": {
      "displayName": "Vivek Aryan",
      "photoUrl": "https://lh3.googleusercontent.com/a-/AOh14Gjohx4ztvX2bvp4dA6DNRsJO32WGCI1HDx0fvZDEQ=s64",
      "userId": "13645402212033740919"
     },
     "user_tz": -330
    },
    "id": "F1bQsaMabvqR",
    "outputId": "76583247-ea4f-4355-bf71-99d2152e08eb"
   },
   "outputs": [
    {
     "data": {
      "text/plain": [
       "array(['en', 'fr', 'zh', 'it', 'fa', 'nl', 'de', 'cn', 'ar', 'es', 'hr',\n",
       "       'ru', 'mk', 'ja', 'sv', 'ko', 'sr', 'bn', 'he', 'pt', 'wo', 'hu',\n",
       "       'cy', 'vi', 'tr', 'pl', 'cs', 'da', 'no', 'ka', 'nb', 'xx', 'hi',\n",
       "       'el', 'sh', 'ta', 'bo', 'ca', 'ab', 'fi', 'th', 'sk', 'bs', 'is',\n",
       "       'sl', 'ps', 'eo', 'se', 'ro', 'mn', 'aa', 'bm', 'dz', 'hy', 'id',\n",
       "       'zu', 'uk', 'af', 'la', 'et', 'lt', 'ku', 'fy', 'lv', 'tl', 'ur',\n",
       "       'rw', 'bg', 'mr', 'eu', 'kk', 'ms', 'qu', 'uz', 'te', 'pa', 'am',\n",
       "       'sq', 'jv', 'tg', 'ml', 'ln', 'lo', 'ay', 'kn', 'ff', 'ne', 'ky',\n",
       "       'gl', 'sm', 'mt', 'iu', 'hz', 'fo', 'lb', 'si', 'yi', 'xh', 'km',\n",
       "       'gu', 'ig', 'sw', 'cr', 'sn', 'as'], dtype=object)"
      ]
     },
     "execution_count": 76,
     "metadata": {
      "tags": []
     },
     "output_type": "execute_result"
    }
   ],
   "source": [
    "df.Language.unique()"
   ]
  },
  {
   "cell_type": "code",
   "execution_count": null,
   "metadata": {
    "colab": {},
    "colab_type": "code",
    "id": "VyY6hxvCp4aH"
   },
   "outputs": [],
   "source": [
    "replace_values = {\n",
    "    'en':'English','fr':'French','zh':'Chinese','it':'Italian','fa':'Persian','nl':'Dutch','de':'German','ar':'Arabic','es':'Spanish','hr':'Croatian',\n",
    "    'ru':'Russian','mk':'Macedonian','ja':'Japanese','sv':'Swedish','ko':'Korean','sr':'Serbian','bn':'Bengali','he':'Hebrew','pt':'Portuguese','wo':'wolof','hu':'Hungarian',\n",
    "    'cy':'Welch','vi':'Vietnamese','tr':'Turkish','pl':'Polish','cs':'Czech','da':'Danish','no':'Norwegian','ka':'Gerogian','nb':'Norwegian','hi':'Hindi',\n",
    "    'el':'Greek','sh':'Serbo_Crotian','ta':'Tamil','bo':'Tibetian','ca':'Catalan','ab':'Abkhazian','fi':'Finnish','th':'Thai','sk':'Slovak','bs':'Bosnian','is':'Icelandic',\n",
    "    'sl':'Slovenian','ps':'Pashto','eo':'Esperanto','se':'Sami','ro':'Romanian','mn':'Mangolian','aa':'Afar','dz':'Bhutani','hy':'Aremnian','id':'Indonesian',\n",
    "    'zu':'Zulu','uk':'Ukranian','af':'Afrikaans','la':'Latin','et':'Estonian','lt':'Lithuanian','ku':'Kurdish','fy':'Frisian','lv':'Latvian','tl':'Tagalog','ur':'Urdu',\n",
    "    'rw':'Kinyarwanda','bg':'Bulgarian','mr':'Marathi','eu':'Basque','kk':'Kazakah','ms':'Malay','qu':'Quechua','uz':'Uzbek','te':'Telugu','pa':'Punjabi','am':'Amharic',\n",
    "    'sq':'Albanian','tg':'Tajik','ml':'Malayalam','ln':'Lingala','lo':'Laothian','ay':'Aymara','kn':'Kannada','ne':'Nepali','ky':'Kirghiz',\n",
    "    'gl':'Galician','sm':'Samoan','mt':'Maltese','iu':'Inuktitut','fo':'Faeroese','si':'Sighalese','yi':'Yiddish','xh':'Xhosa','km':'Cambodian',\n",
    "    'gu':'Gujarati','sw':'Swahili','sn':'Shona','as':'Assamese'}"
   ]
  },
  {
   "cell_type": "code",
   "execution_count": null,
   "metadata": {
    "colab": {},
    "colab_type": "code",
    "id": "ju16G2ki1xIK"
   },
   "outputs": [],
   "source": [
    "df = df.replace({\"Language\": replace_values})"
   ]
  },
  {
   "cell_type": "code",
   "execution_count": null,
   "metadata": {
    "colab": {
     "base_uri": "https://localhost:8080/",
     "height": 204
    },
    "colab_type": "code",
    "executionInfo": {
     "elapsed": 845,
     "status": "ok",
     "timestamp": 1594722224469,
     "user": {
      "displayName": "Vivek Aryan",
      "photoUrl": "https://lh3.googleusercontent.com/a-/AOh14Gjohx4ztvX2bvp4dA6DNRsJO32WGCI1HDx0fvZDEQ=s64",
      "userId": "13645402212033740919"
     },
     "user_tz": -330
    },
    "id": "PAhXzVSI2eyi",
    "outputId": "80766329-61cb-47bb-e0a4-ba7e0acb298e"
   },
   "outputs": [
    {
     "data": {
      "text/html": [
       "<div>\n",
       "<style scoped>\n",
       "    .dataframe tbody tr th:only-of-type {\n",
       "        vertical-align: middle;\n",
       "    }\n",
       "\n",
       "    .dataframe tbody tr th {\n",
       "        vertical-align: top;\n",
       "    }\n",
       "\n",
       "    .dataframe thead th {\n",
       "        text-align: right;\n",
       "    }\n",
       "</style>\n",
       "<table border=\"1\" class=\"dataframe\">\n",
       "  <thead>\n",
       "    <tr style=\"text-align: right;\">\n",
       "      <th></th>\n",
       "      <th>tmdbId</th>\n",
       "      <th>Title</th>\n",
       "      <th>Year</th>\n",
       "      <th>Genres</th>\n",
       "      <th>Language</th>\n",
       "    </tr>\n",
       "  </thead>\n",
       "  <tbody>\n",
       "    <tr>\n",
       "      <th>0</th>\n",
       "      <td>862</td>\n",
       "      <td>Toy Story</td>\n",
       "      <td>1995</td>\n",
       "      <td>Animation Comedy Family</td>\n",
       "      <td>English</td>\n",
       "    </tr>\n",
       "    <tr>\n",
       "      <th>1</th>\n",
       "      <td>8844</td>\n",
       "      <td>Jumanji</td>\n",
       "      <td>1995</td>\n",
       "      <td>Adventure Fantasy Family</td>\n",
       "      <td>English</td>\n",
       "    </tr>\n",
       "    <tr>\n",
       "      <th>2</th>\n",
       "      <td>15602</td>\n",
       "      <td>Grumpier Old Men</td>\n",
       "      <td>1995</td>\n",
       "      <td>Romance Comedy</td>\n",
       "      <td>English</td>\n",
       "    </tr>\n",
       "    <tr>\n",
       "      <th>3</th>\n",
       "      <td>31357</td>\n",
       "      <td>Waiting to Exhale</td>\n",
       "      <td>1995</td>\n",
       "      <td>Comedy Drama Romance</td>\n",
       "      <td>English</td>\n",
       "    </tr>\n",
       "    <tr>\n",
       "      <th>4</th>\n",
       "      <td>11862</td>\n",
       "      <td>Father of the Bride Part II</td>\n",
       "      <td>1995</td>\n",
       "      <td>Comedy</td>\n",
       "      <td>English</td>\n",
       "    </tr>\n",
       "  </tbody>\n",
       "</table>\n",
       "</div>"
      ],
      "text/plain": [
       "   tmdbId                        Title  Year                    Genres Language\n",
       "0     862                    Toy Story  1995   Animation Comedy Family  English\n",
       "1    8844                      Jumanji  1995  Adventure Fantasy Family  English\n",
       "2   15602             Grumpier Old Men  1995            Romance Comedy  English\n",
       "3   31357            Waiting to Exhale  1995      Comedy Drama Romance  English\n",
       "4   11862  Father of the Bride Part II  1995                    Comedy  English"
      ]
     },
     "execution_count": 80,
     "metadata": {
      "tags": []
     },
     "output_type": "execute_result"
    }
   ],
   "source": [
    "df.head()"
   ]
  },
  {
   "cell_type": "code",
   "execution_count": null,
   "metadata": {
    "colab": {
     "base_uri": "https://localhost:8080/",
     "height": 323
    },
    "colab_type": "code",
    "executionInfo": {
     "elapsed": 692,
     "status": "ok",
     "timestamp": 1594722393263,
     "user": {
      "displayName": "Vivek Aryan",
      "photoUrl": "https://lh3.googleusercontent.com/a-/AOh14Gjohx4ztvX2bvp4dA6DNRsJO32WGCI1HDx0fvZDEQ=s64",
      "userId": "13645402212033740919"
     },
     "user_tz": -330
    },
    "id": "eDTXdkl12gKh",
    "outputId": "45d0a822-a944-4fcf-d68f-f891d19a404a"
   },
   "outputs": [
    {
     "data": {
      "text/plain": [
       "array(['English', 'French', 'Chinese', 'Italian', 'Persian', 'Dutch',\n",
       "       'German', 'cn', 'Arabic', 'Spanish', 'Croatian', 'Russian',\n",
       "       'Macedonian', 'Japanese', 'Swedish', 'Korean', 'Serbian',\n",
       "       'Bengali', 'Hebrew', 'Portuguese', 'wolof', 'Hungarian', 'Welch',\n",
       "       'Vietnamese', 'Turkish', 'Polish', 'Czech', 'Danish', 'Norwegian',\n",
       "       'Gerogian', 'xx', 'Hindi', 'Greek', 'Serbo_Crotian', 'Tamil',\n",
       "       'Tibetian', 'Catalan', 'Abkhazian', 'Finnish', 'Thai', 'Slovak',\n",
       "       'Bosnian', 'Icelandic', 'Slovenian', 'Pashto', 'Esperanto', 'Sami',\n",
       "       'Romanian', 'Mangolian', 'Afar', 'bm', 'Bhutani', 'Aremnian',\n",
       "       'Indonesian', 'Zulu', 'Ukranian', 'Afrikaans', 'Latin', 'Estonian',\n",
       "       'Lithuanian', 'Kurdish', 'Frisian', 'Latvian', 'Tagalog', 'Urdu',\n",
       "       'Kinyarwanda', 'Bulgarian', 'Marathi', 'Basque', 'Kazakah',\n",
       "       'Malay', 'Quechua', 'Uzbek', 'Telugu', 'Punjabi', 'Amharic',\n",
       "       'Albanian', 'jv', 'Tajik', 'Malayalam', 'Lingala', 'Laothian',\n",
       "       'Aymara', 'Kannada', 'ff', 'Nepali', 'Kirghiz', 'Galician',\n",
       "       'Samoan', 'Maltese', 'Inuktitut', 'hz', 'Faeroese', 'lb',\n",
       "       'Sighalese', 'Yiddish', 'Xhosa', 'Cambodian', 'Gujarati', 'ig',\n",
       "       'Swahili', 'cr', 'Shona', 'Assamese'], dtype=object)"
      ]
     },
     "execution_count": 81,
     "metadata": {
      "tags": []
     },
     "output_type": "execute_result"
    }
   ],
   "source": [
    "df.Language.unique()"
   ]
  },
  {
   "cell_type": "code",
   "execution_count": null,
   "metadata": {
    "colab": {},
    "colab_type": "code",
    "id": "SRqX0gqj3JkL"
   },
   "outputs": [],
   "source": [
    "remove = ['cn','xx','bm','jv','ff','lb','ig','cr','Macedonian','wolof','Serbo_Crotian','Tibetian','Abkhazian','Pashto','Esperanto','Sami','Mangolian','Aremnian',\n",
    "          'Zulu','Afrikaans','Basque','Kazakah','Quechua','Uzbek','Amharic','Albanian','Tajik','Lingala','Laothian','Aymara','Nepali','Kirghiz','Galician',\n",
    "          'Samoan','Maltese','Inuktitut','hz','Faeroese','Sighalese','Xhosa','Cambodian','Swahili','Shona','Assamese']\n",
    "df = df[~df.Language.isin(remove)]"
   ]
  },
  {
   "cell_type": "code",
   "execution_count": null,
   "metadata": {
    "colab": {},
    "colab_type": "code",
    "id": "GkjJrQ9ABWGD"
   },
   "outputs": [],
   "source": [
    "df['Cast'] = df['tmdbId'].map(lambda x: get_cast(x))\n",
    "df['Crew'] = df['tmdbId'].map(lambda x: get_crew(x))\n",
    "df['Runtime'] = df['tmdbId'].map(lambda x: get_runtime(x))\n",
    "df['Vote_count'] = df['tmdbId'].map(lambda x: get_vote_count(x))\n",
    "df['Vote_avg'] = df['tmdbId'].map(lambda x: get_vote_avg(x))\n",
    "df['Director'] = df['tmdbId'].map(lambda x: get_direc(x))\n",
    "df['Screenplay'] = df['tmdbId'].map(lambda x: get_screenplay(x))\n",
    "df['Original_score'] = df['tmdbId'].map(lambda x: get_bgs(x))\n",
    "df['Cinematography'] = df['tmdbId'].map(lambda x: get_cinematography(x))\n",
    "df['Keywords'] = df['tmdbId'].map(lambda x: get_keywords(x))"
   ]
  },
  {
   "cell_type": "code",
   "execution_count": 36,
   "metadata": {
    "colab": {
     "base_uri": "https://localhost:8080/",
     "height": 649
    },
    "colab_type": "code",
    "executionInfo": {
     "elapsed": 106,
     "status": "ok",
     "timestamp": 1595343420831,
     "user": {
      "displayName": "Vivek Aryan",
      "photoUrl": "https://lh3.googleusercontent.com/a-/AOh14Gjohx4ztvX2bvp4dA6DNRsJO32WGCI1HDx0fvZDEQ=s64",
      "userId": "13645402212033740919"
     },
     "user_tz": -330
    },
    "id": "vcrvMOe7JVjg",
    "outputId": "ca82b5b2-2e66-4c0a-f8d9-50fe3341069f"
   },
   "outputs": [
    {
     "data": {
      "text/html": [
       "<div>\n",
       "<style scoped>\n",
       "    .dataframe tbody tr th:only-of-type {\n",
       "        vertical-align: middle;\n",
       "    }\n",
       "\n",
       "    .dataframe tbody tr th {\n",
       "        vertical-align: top;\n",
       "    }\n",
       "\n",
       "    .dataframe thead th {\n",
       "        text-align: right;\n",
       "    }\n",
       "</style>\n",
       "<table border=\"1\" class=\"dataframe\">\n",
       "  <thead>\n",
       "    <tr style=\"text-align: right;\">\n",
       "      <th></th>\n",
       "      <th>tmdbId</th>\n",
       "      <th>Title</th>\n",
       "      <th>Year</th>\n",
       "      <th>Genres</th>\n",
       "      <th>Language</th>\n",
       "      <th>Cast</th>\n",
       "      <th>Crew</th>\n",
       "      <th>Runtime</th>\n",
       "      <th>Vote_count</th>\n",
       "      <th>Vote_avg</th>\n",
       "      <th>Director</th>\n",
       "      <th>Screenplay</th>\n",
       "      <th>Original_score</th>\n",
       "      <th>Cinematography</th>\n",
       "      <th>Keywords</th>\n",
       "    </tr>\n",
       "  </thead>\n",
       "  <tbody>\n",
       "    <tr>\n",
       "      <th>0</th>\n",
       "      <td>862</td>\n",
       "      <td>Toy Story</td>\n",
       "      <td>1995</td>\n",
       "      <td>Animation Comedy Family</td>\n",
       "      <td>English</td>\n",
       "      <td>['Tom Hanks', 'Tim Allen', 'Don Rickles', 'Jim...</td>\n",
       "      <td>['Writing', 'Andrew Stanton', 'Writing', 'Andr...</td>\n",
       "      <td>[81]</td>\n",
       "      <td>[12628]</td>\n",
       "      <td>[7.9]</td>\n",
       "      <td>['John Lasseter']</td>\n",
       "      <td>['Andrew Stanton']</td>\n",
       "      <td>['Randy Newman']</td>\n",
       "      <td>NaN</td>\n",
       "      <td>[martial arts, jealousy, toy, friendship, bull...</td>\n",
       "    </tr>\n",
       "    <tr>\n",
       "      <th>1</th>\n",
       "      <td>8844</td>\n",
       "      <td>Jumanji</td>\n",
       "      <td>1995</td>\n",
       "      <td>Adventure Fantasy Family</td>\n",
       "      <td>English</td>\n",
       "      <td>['Robin Williams', 'Jonathan Hyde', 'Kirsten D...</td>\n",
       "      <td>['Production', 'Larry J. Franco', 'Writing', '...</td>\n",
       "      <td>[104]</td>\n",
       "      <td>[7378]</td>\n",
       "      <td>[7.2]</td>\n",
       "      <td>['Joe Johnston']</td>\n",
       "      <td>['Jonathan Hensleigh']</td>\n",
       "      <td>['James Horner']</td>\n",
       "      <td>['Thomas E. Ackerman']</td>\n",
       "      <td>[giant insect, board game, jungle, disappearan...</td>\n",
       "    </tr>\n",
       "    <tr>\n",
       "      <th>2</th>\n",
       "      <td>15602</td>\n",
       "      <td>Grumpier Old Men</td>\n",
       "      <td>1995</td>\n",
       "      <td>Romance Comedy</td>\n",
       "      <td>English</td>\n",
       "      <td>['Walter Matthau', 'Jack Lemmon', 'Ann-Margret...</td>\n",
       "      <td>['Art', 'Gary Frutkoff', 'Sound', 'Alan Silves...</td>\n",
       "      <td>[101]</td>\n",
       "      <td>[203]</td>\n",
       "      <td>[6.6]</td>\n",
       "      <td>['Howard Deutch']</td>\n",
       "      <td>NaN</td>\n",
       "      <td>['Alan Silvestri']</td>\n",
       "      <td>['Tak Fujimoto']</td>\n",
       "      <td>[fishing, old man, best friend, duringcreditss...</td>\n",
       "    </tr>\n",
       "    <tr>\n",
       "      <th>3</th>\n",
       "      <td>31357</td>\n",
       "      <td>Waiting to Exhale</td>\n",
       "      <td>1995</td>\n",
       "      <td>Comedy Drama Romance</td>\n",
       "      <td>English</td>\n",
       "      <td>['Whitney Houston', 'Angela Bassett', 'Loretta...</td>\n",
       "      <td>['Directing', 'Forest Whitaker', 'Writing', 'R...</td>\n",
       "      <td>[127]</td>\n",
       "      <td>[75]</td>\n",
       "      <td>[6.2]</td>\n",
       "      <td>['Forest Whitaker']</td>\n",
       "      <td>['Ronald Bass']</td>\n",
       "      <td>['Kenneth Edmonds']</td>\n",
       "      <td>['Toyomichi Kurita']</td>\n",
       "      <td>[based on novel or book, interracial relations...</td>\n",
       "    </tr>\n",
       "    <tr>\n",
       "      <th>4</th>\n",
       "      <td>11862</td>\n",
       "      <td>Father of the Bride Part II</td>\n",
       "      <td>1995</td>\n",
       "      <td>Comedy</td>\n",
       "      <td>English</td>\n",
       "      <td>['Steve Martin', 'Diane Keaton', 'Martin Short...</td>\n",
       "      <td>['Sound', 'Alan Silvestri', 'Camera', 'Elliot ...</td>\n",
       "      <td>[106]</td>\n",
       "      <td>[416]</td>\n",
       "      <td>[6.2]</td>\n",
       "      <td>['Charles Shyer']</td>\n",
       "      <td>['Nancy Meyers']</td>\n",
       "      <td>['Alan Silvestri']</td>\n",
       "      <td>['Elliot Davis']</td>\n",
       "      <td>[parent child relationship, baby, midlife cris...</td>\n",
       "    </tr>\n",
       "  </tbody>\n",
       "</table>\n",
       "</div>"
      ],
      "text/plain": [
       "   tmdbId  ...                                           Keywords\n",
       "0     862  ...  [martial arts, jealousy, toy, friendship, bull...\n",
       "1    8844  ...  [giant insect, board game, jungle, disappearan...\n",
       "2   15602  ...  [fishing, old man, best friend, duringcreditss...\n",
       "3   31357  ...  [based on novel or book, interracial relations...\n",
       "4   11862  ...  [parent child relationship, baby, midlife cris...\n",
       "\n",
       "[5 rows x 15 columns]"
      ]
     },
     "execution_count": 36,
     "metadata": {
      "tags": []
     },
     "output_type": "execute_result"
    }
   ],
   "source": [
    "df.head()"
   ]
  },
  {
   "cell_type": "code",
   "execution_count": 37,
   "metadata": {
    "colab": {},
    "colab_type": "code",
    "executionInfo": {
     "elapsed": 11061651,
     "status": "ok",
     "timestamp": 1595343422605,
     "user": {
      "displayName": "Vivek Aryan",
      "photoUrl": "https://lh3.googleusercontent.com/a-/AOh14Gjohx4ztvX2bvp4dA6DNRsJO32WGCI1HDx0fvZDEQ=s64",
      "userId": "13645402212033740919"
     },
     "user_tz": -330
    },
    "id": "IoRfL2oUNPAu"
   },
   "outputs": [],
   "source": [
    "df.to_csv('C:/Users/Admin/Desktop/Miniproject/Data/main_movies.csv', index=False)"
   ]
  },
  {
   "cell_type": "code",
   "execution_count": null,
   "metadata": {
    "colab": {},
    "colab_type": "code",
    "id": "slT63Ak8MDLY"
   },
   "outputs": [],
   "source": []
  }
 ],
 "metadata": {
  "colab": {
   "authorship_tag": "ABX9TyMrSq9ZELgmzQrOaUQ0PFew",
   "collapsed_sections": [],
   "mount_file_id": "1yQfnKjhAj_b7j6S7KjW09IIfZz_OYeHj",
   "name": "Preprocessing 2.ipynb",
   "provenance": []
  },
  "kernelspec": {
   "display_name": "Python 3",
   "language": "python",
   "name": "python3"
  },
  "language_info": {
   "codemirror_mode": {
    "name": "ipython",
    "version": 3
   },
   "file_extension": ".py",
   "mimetype": "text/x-python",
   "name": "python",
   "nbconvert_exporter": "python",
   "pygments_lexer": "ipython3",
   "version": "3.8.5"
  }
 },
 "nbformat": 4,
 "nbformat_minor": 1
}
