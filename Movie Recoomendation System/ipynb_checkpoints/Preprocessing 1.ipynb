{
 "cells": [
  {
   "cell_type": "code",
   "execution_count": null,
   "metadata": {
    "colab": {},
    "colab_type": "code",
    "id": "7w1wAD54_5Sr"
   },
   "outputs": [],
   "source": [
    "\n",
    "import pandas as pd\n",
    "import numpy as np\n",
    "import requests\n",
    "from requests import get"
   ]
  },
  {
   "cell_type": "code",
   "execution_count": null,
   "metadata": {
    "colab": {},
    "colab_type": "code",
    "id": "skBpcdy3AXAv"
   },
   "outputs": [],
   "source": [
    "\n",
    "meta = pd.read_csv('C:/Users/Admin/Desktop/Miniproject/Data/movies.csv')\n",
    "links = pd.read_csv('C:/Users/Admin/Desktop/Miniproject/Data/links.csv')"
   ]
  },
  {
   "cell_type": "code",
   "execution_count": null,
   "metadata": {
    "colab": {
     "base_uri": "https://localhost:8080/",
     "height": 204
    },
    "colab_type": "code",
    "executionInfo": {
     "elapsed": 3097,
     "status": "ok",
     "timestamp": 1594647436009,
     "user": {
      "displayName": "Vivek Aryan",
      "photoUrl": "https://lh3.googleusercontent.com/a-/AOh14Gjohx4ztvX2bvp4dA6DNRsJO32WGCI1HDx0fvZDEQ=s64",
      "userId": "13645402212033740919"
     },
     "user_tz": -330
    },
    "id": "Kiwj4J8mx5n7",
    "outputId": "50adc581-7e2a-4b4f-8578-f412cab2e5cd"
   },
   "outputs": [
    {
     "data": {
      "text/html": [
       "<div>\n",
       "<style scoped>\n",
       "    .dataframe tbody tr th:only-of-type {\n",
       "        vertical-align: middle;\n",
       "    }\n",
       "\n",
       "    .dataframe tbody tr th {\n",
       "        vertical-align: top;\n",
       "    }\n",
       "\n",
       "    .dataframe thead th {\n",
       "        text-align: right;\n",
       "    }\n",
       "</style>\n",
       "<table border=\"1\" class=\"dataframe\">\n",
       "  <thead>\n",
       "    <tr style=\"text-align: right;\">\n",
       "      <th></th>\n",
       "      <th>movieId</th>\n",
       "      <th>imdbId</th>\n",
       "      <th>tmdbId</th>\n",
       "    </tr>\n",
       "  </thead>\n",
       "  <tbody>\n",
       "    <tr>\n",
       "      <th>0</th>\n",
       "      <td>1</td>\n",
       "      <td>114709</td>\n",
       "      <td>862.0</td>\n",
       "    </tr>\n",
       "    <tr>\n",
       "      <th>1</th>\n",
       "      <td>2</td>\n",
       "      <td>113497</td>\n",
       "      <td>8844.0</td>\n",
       "    </tr>\n",
       "    <tr>\n",
       "      <th>2</th>\n",
       "      <td>3</td>\n",
       "      <td>113228</td>\n",
       "      <td>15602.0</td>\n",
       "    </tr>\n",
       "    <tr>\n",
       "      <th>3</th>\n",
       "      <td>4</td>\n",
       "      <td>114885</td>\n",
       "      <td>31357.0</td>\n",
       "    </tr>\n",
       "    <tr>\n",
       "      <th>4</th>\n",
       "      <td>5</td>\n",
       "      <td>113041</td>\n",
       "      <td>11862.0</td>\n",
       "    </tr>\n",
       "  </tbody>\n",
       "</table>\n",
       "</div>"
      ],
      "text/plain": [
       "   movieId  imdbId   tmdbId\n",
       "0        1  114709    862.0\n",
       "1        2  113497   8844.0\n",
       "2        3  113228  15602.0\n",
       "3        4  114885  31357.0\n",
       "4        5  113041  11862.0"
      ]
     },
     "execution_count": 32,
     "metadata": {
      "tags": []
     },
     "output_type": "execute_result"
    }
   ],
   "source": [
    "links.head()"
   ]
  },
  {
   "cell_type": "code",
   "execution_count": null,
   "metadata": {
    "colab": {
     "base_uri": "https://localhost:8080/",
     "height": 68
    },
    "colab_type": "code",
    "executionInfo": {
     "elapsed": 2791,
     "status": "ok",
     "timestamp": 1594647436024,
     "user": {
      "displayName": "Vivek Aryan",
      "photoUrl": "https://lh3.googleusercontent.com/a-/AOh14Gjohx4ztvX2bvp4dA6DNRsJO32WGCI1HDx0fvZDEQ=s64",
      "userId": "13645402212033740919"
     },
     "user_tz": -330
    },
    "id": "TGu6P19twdLX",
    "outputId": "7cdf738d-65ff-4959-b236-5e453bcdb6f1"
   },
   "outputs": [
    {
     "data": {
      "text/plain": [
       "movieId      0\n",
       "tmdbId     181\n",
       "dtype: int64"
      ]
     },
     "execution_count": 33,
     "metadata": {
      "tags": []
     },
     "output_type": "execute_result"
    }
   ],
   "source": [
    "\n",
    "links = links.drop(columns=('imdbId'))\n",
    "\n",
    "\n",
    "links.isna().sum()"
   ]
  },
  {
   "cell_type": "code",
   "execution_count": null,
   "metadata": {
    "colab": {
     "base_uri": "https://localhost:8080/",
     "height": 34
    },
    "colab_type": "code",
    "executionInfo": {
     "elapsed": 5832,
     "status": "ok",
     "timestamp": 1594647439382,
     "user": {
      "displayName": "Vivek Aryan",
      "photoUrl": "https://lh3.googleusercontent.com/a-/AOh14Gjohx4ztvX2bvp4dA6DNRsJO32WGCI1HDx0fvZDEQ=s64",
      "userId": "13645402212033740919"
     },
     "user_tz": -330
    },
    "id": "5qBjkjBkwWcb",
    "outputId": "3fcee9b8-d3d0-44c3-bc42-d575f4e82c19"
   },
   "outputs": [
    {
     "data": {
      "text/plain": [
       "(57917, 2)"
      ]
     },
     "execution_count": 34,
     "metadata": {
      "tags": []
     },
     "output_type": "execute_result"
    }
   ],
   "source": [
    "links = links.dropna()\n",
    "links.shape"
   ]
  },
  {
   "cell_type": "code",
   "execution_count": null,
   "metadata": {
    "colab": {},
    "colab_type": "code",
    "id": "UKNp1I85wvGL"
   },
   "outputs": [],
   "source": [
    "# Getting all rows that do not have null values in thier tmdbId column\n",
    "meta = pd.merge(links,meta,on='movieId',how='left')"
   ]
  },
  {
   "cell_type": "code",
   "execution_count": null,
   "metadata": {
    "colab": {
     "base_uri": "https://localhost:8080/",
     "height": 204
    },
    "colab_type": "code",
    "executionInfo": {
     "elapsed": 5166,
     "status": "ok",
     "timestamp": 1594647439393,
     "user": {
      "displayName": "Vivek Aryan",
      "photoUrl": "https://lh3.googleusercontent.com/a-/AOh14Gjohx4ztvX2bvp4dA6DNRsJO32WGCI1HDx0fvZDEQ=s64",
      "userId": "13645402212033740919"
     },
     "user_tz": -330
    },
    "id": "OSRO6jqcAiPs",
    "outputId": "e3fb56b0-22be-47d3-b664-feb18619cba8"
   },
   "outputs": [
    {
     "data": {
      "text/html": [
       "<div>\n",
       "<style scoped>\n",
       "    .dataframe tbody tr th:only-of-type {\n",
       "        vertical-align: middle;\n",
       "    }\n",
       "\n",
       "    .dataframe tbody tr th {\n",
       "        vertical-align: top;\n",
       "    }\n",
       "\n",
       "    .dataframe thead th {\n",
       "        text-align: right;\n",
       "    }\n",
       "</style>\n",
       "<table border=\"1\" class=\"dataframe\">\n",
       "  <thead>\n",
       "    <tr style=\"text-align: right;\">\n",
       "      <th></th>\n",
       "      <th>movieId</th>\n",
       "      <th>tmdbId</th>\n",
       "      <th>title</th>\n",
       "      <th>genres</th>\n",
       "    </tr>\n",
       "  </thead>\n",
       "  <tbody>\n",
       "    <tr>\n",
       "      <th>0</th>\n",
       "      <td>1</td>\n",
       "      <td>862.0</td>\n",
       "      <td>Toy Story (1995)</td>\n",
       "      <td>Adventure|Animation|Children|Comedy|Fantasy</td>\n",
       "    </tr>\n",
       "    <tr>\n",
       "      <th>1</th>\n",
       "      <td>2</td>\n",
       "      <td>8844.0</td>\n",
       "      <td>Jumanji (1995)</td>\n",
       "      <td>Adventure|Children|Fantasy</td>\n",
       "    </tr>\n",
       "    <tr>\n",
       "      <th>2</th>\n",
       "      <td>3</td>\n",
       "      <td>15602.0</td>\n",
       "      <td>Grumpier Old Men (1995)</td>\n",
       "      <td>Comedy|Romance</td>\n",
       "    </tr>\n",
       "    <tr>\n",
       "      <th>3</th>\n",
       "      <td>4</td>\n",
       "      <td>31357.0</td>\n",
       "      <td>Waiting to Exhale (1995)</td>\n",
       "      <td>Comedy|Drama|Romance</td>\n",
       "    </tr>\n",
       "    <tr>\n",
       "      <th>4</th>\n",
       "      <td>5</td>\n",
       "      <td>11862.0</td>\n",
       "      <td>Father of the Bride Part II (1995)</td>\n",
       "      <td>Comedy</td>\n",
       "    </tr>\n",
       "  </tbody>\n",
       "</table>\n",
       "</div>"
      ],
      "text/plain": [
       "   movieId  ...                                       genres\n",
       "0        1  ...  Adventure|Animation|Children|Comedy|Fantasy\n",
       "1        2  ...                   Adventure|Children|Fantasy\n",
       "2        3  ...                               Comedy|Romance\n",
       "3        4  ...                         Comedy|Drama|Romance\n",
       "4        5  ...                                       Comedy\n",
       "\n",
       "[5 rows x 4 columns]"
      ]
     },
     "execution_count": 36,
     "metadata": {
      "tags": []
     },
     "output_type": "execute_result"
    }
   ],
   "source": [
    "meta.head()"
   ]
  },
  {
   "cell_type": "code",
   "execution_count": null,
   "metadata": {
    "colab": {
     "base_uri": "https://localhost:8080/",
     "height": 34
    },
    "colab_type": "code",
    "executionInfo": {
     "elapsed": 4988,
     "status": "ok",
     "timestamp": 1594647439396,
     "user": {
      "displayName": "Vivek Aryan",
      "photoUrl": "https://lh3.googleusercontent.com/a-/AOh14Gjohx4ztvX2bvp4dA6DNRsJO32WGCI1HDx0fvZDEQ=s64",
      "userId": "13645402212033740919"
     },
     "user_tz": -330
    },
    "id": "85dVQdKe8U_R",
    "outputId": "92dd5410-3d59-40ad-efe1-1eed5c068400"
   },
   "outputs": [
    {
     "data": {
      "text/plain": [
       "(57917, 4)"
      ]
     },
     "execution_count": 37,
     "metadata": {
      "tags": []
     },
     "output_type": "execute_result"
    }
   ],
   "source": [
    "meta.shape"
   ]
  },
  {
   "cell_type": "code",
   "execution_count": null,
   "metadata": {
    "colab": {},
    "colab_type": "code",
    "id": "e_ZKhMWEpyDw"
   },
   "outputs": [],
   "source": [
    "# Cleaning the title column\n",
    "split_values = meta['title'].str.rsplit('(', n=1, expand = True) \n",
    "meta['Title'] = split_values[0] \n",
    "meta['Year'] = split_values[1] \n",
    "meta['Year'] = meta.Year.str.replace(')','') \n",
    "meta['Title'] = meta['Title'].str.replace(r\"\\(.*\\)\", \"\") "
   ]
  },
  {
   "cell_type": "code",
   "execution_count": null,
   "metadata": {
    "colab": {
     "base_uri": "https://localhost:8080/",
     "height": 34
    },
    "colab_type": "code",
    "executionInfo": {
     "elapsed": 4283,
     "status": "ok",
     "timestamp": 1594647439404,
     "user": {
      "displayName": "Vivek Aryan",
      "photoUrl": "https://lh3.googleusercontent.com/a-/AOh14Gjohx4ztvX2bvp4dA6DNRsJO32WGCI1HDx0fvZDEQ=s64",
      "userId": "13645402212033740919"
     },
     "user_tz": -330
    },
    "id": "yF8UTJg0cZTw",
    "outputId": "e763ceef-26c6-4ba3-965d-cf8da5705dea"
   },
   "outputs": [
    {
     "data": {
      "text/plain": [
       "(57917, 6)"
      ]
     },
     "execution_count": 39,
     "metadata": {
      "tags": []
     },
     "output_type": "execute_result"
    }
   ],
   "source": [
    "meta.shape"
   ]
  },
  {
   "cell_type": "code",
   "execution_count": null,
   "metadata": {
    "colab": {
     "base_uri": "https://localhost:8080/",
     "height": 306
    },
    "colab_type": "code",
    "executionInfo": {
     "elapsed": 4007,
     "status": "ok",
     "timestamp": 1594647439408,
     "user": {
      "displayName": "Vivek Aryan",
      "photoUrl": "https://lh3.googleusercontent.com/a-/AOh14Gjohx4ztvX2bvp4dA6DNRsJO32WGCI1HDx0fvZDEQ=s64",
      "userId": "13645402212033740919"
     },
     "user_tz": -330
    },
    "id": "Nn2X0UYvNZFO",
    "outputId": "5ebf38f3-156f-4833-ad4a-8495b15e29fb"
   },
   "outputs": [
    {
     "name": "stderr",
     "output_type": "stream",
     "text": [
      "/usr/local/lib/python3.6/dist-packages/ipykernel_launcher.py:2: SettingWithCopyWarning: \n",
      "A value is trying to be set on a copy of a slice from a DataFrame.\n",
      "Try using .loc[row_indexer,col_indexer] = value instead\n",
      "\n",
      "See the caveats in the documentation: https://pandas.pydata.org/pandas-docs/stable/user_guide/indexing.html#returning-a-view-versus-a-copy\n",
      "  \n"
     ]
    },
    {
     "data": {
      "text/html": [
       "<div>\n",
       "<style scoped>\n",
       "    .dataframe tbody tr th:only-of-type {\n",
       "        vertical-align: middle;\n",
       "    }\n",
       "\n",
       "    .dataframe tbody tr th {\n",
       "        vertical-align: top;\n",
       "    }\n",
       "\n",
       "    .dataframe thead th {\n",
       "        text-align: right;\n",
       "    }\n",
       "</style>\n",
       "<table border=\"1\" class=\"dataframe\">\n",
       "  <thead>\n",
       "    <tr style=\"text-align: right;\">\n",
       "      <th></th>\n",
       "      <th>movieId</th>\n",
       "      <th>tmdbId</th>\n",
       "      <th>title</th>\n",
       "      <th>genres</th>\n",
       "      <th>Title</th>\n",
       "      <th>Year</th>\n",
       "    </tr>\n",
       "  </thead>\n",
       "  <tbody>\n",
       "    <tr>\n",
       "      <th>0</th>\n",
       "      <td>1</td>\n",
       "      <td>862.0</td>\n",
       "      <td>Toy Story (1995)</td>\n",
       "      <td>Adventure|Animation|Children|Comedy|Fantasy</td>\n",
       "      <td>Toy Story</td>\n",
       "      <td>1995</td>\n",
       "    </tr>\n",
       "    <tr>\n",
       "      <th>1</th>\n",
       "      <td>2</td>\n",
       "      <td>8844.0</td>\n",
       "      <td>Jumanji (1995)</td>\n",
       "      <td>Adventure|Children|Fantasy</td>\n",
       "      <td>Jumanji</td>\n",
       "      <td>1995</td>\n",
       "    </tr>\n",
       "    <tr>\n",
       "      <th>2</th>\n",
       "      <td>3</td>\n",
       "      <td>15602.0</td>\n",
       "      <td>Grumpier Old Men (1995)</td>\n",
       "      <td>Comedy|Romance</td>\n",
       "      <td>Grumpier Old Men</td>\n",
       "      <td>1995</td>\n",
       "    </tr>\n",
       "    <tr>\n",
       "      <th>3</th>\n",
       "      <td>4</td>\n",
       "      <td>31357.0</td>\n",
       "      <td>Waiting to Exhale (1995)</td>\n",
       "      <td>Comedy|Drama|Romance</td>\n",
       "      <td>Waiting to Exhale</td>\n",
       "      <td>1995</td>\n",
       "    </tr>\n",
       "    <tr>\n",
       "      <th>4</th>\n",
       "      <td>5</td>\n",
       "      <td>11862.0</td>\n",
       "      <td>Father of the Bride Part II (1995)</td>\n",
       "      <td>Comedy</td>\n",
       "      <td>Father of the Bride Part II</td>\n",
       "      <td>1995</td>\n",
       "    </tr>\n",
       "  </tbody>\n",
       "</table>\n",
       "</div>"
      ],
      "text/plain": [
       "   movieId   tmdbId  ...                         Title  Year\n",
       "0        1    862.0  ...                    Toy Story   1995\n",
       "1        2   8844.0  ...                      Jumanji   1995\n",
       "2        3  15602.0  ...             Grumpier Old Men   1995\n",
       "3        4  31357.0  ...            Waiting to Exhale   1995\n",
       "4        5  11862.0  ...  Father of the Bride Part II   1995\n",
       "\n",
       "[5 rows x 6 columns]"
      ]
     },
     "execution_count": 40,
     "metadata": {
      "tags": []
     },
     "output_type": "execute_result"
    }
   ],
   "source": [
    "\n",
    "meta_copy = meta[meta['Title'].str.contains(\", The \")]\n",
    "meta_copy['Title'] = 'The ' + meta_copy['Title'].str.replace(', The ', '')\n",
    "meta.update(meta[['movieId', 'genres', 'Year']].merge(meta_copy, 'left'))\n",
    "meta.head()"
   ]
  },
  {
   "cell_type": "code",
   "execution_count": null,
   "metadata": {
    "colab": {
     "base_uri": "https://localhost:8080/",
     "height": 34
    },
    "colab_type": "code",
    "executionInfo": {
     "elapsed": 3753,
     "status": "ok",
     "timestamp": 1594647439410,
     "user": {
      "displayName": "Vivek Aryan",
      "photoUrl": "https://lh3.googleusercontent.com/a-/AOh14Gjohx4ztvX2bvp4dA6DNRsJO32WGCI1HDx0fvZDEQ=s64",
      "userId": "13645402212033740919"
     },
     "user_tz": -330
    },
    "id": "YbSBmUQnxYCP",
    "outputId": "8575cd9a-48db-46f9-f45d-93bbf357727f"
   },
   "outputs": [
    {
     "data": {
      "text/plain": [
       "(57917, 6)"
      ]
     },
     "execution_count": 41,
     "metadata": {
      "tags": []
     },
     "output_type": "execute_result"
    }
   ],
   "source": [
    "meta.shape"
   ]
  },
  {
   "cell_type": "code",
   "execution_count": null,
   "metadata": {
    "colab": {},
    "colab_type": "code",
    "id": "oRQuC9I2oFJr"
   },
   "outputs": [],
   "source": [
    "\n",
    "meta_an = meta[meta['Title'].str.contains(\", An \")]\n",
    "meta_an['Title'] = 'An ' + meta_an['Title'].str.replace(', An ', '')\n",
    "meta.update(meta[['movieId', 'genres', 'Year']].merge(meta_an, 'left'))\n",
    "meta.shape"
   ]
  },
  {
   "cell_type": "code",
   "execution_count": null,
   "metadata": {
    "colab": {},
    "colab_type": "code",
    "id": "ZCmui04f09hC"
   },
   "outputs": [],
   "source": [
    "\n",
    "meta_a = meta[meta['Title'].str.contains(\", A \")]\n",
    "meta_a['Title'] = 'A ' + meta_a['Title'].str.replace(', A ', '')\n",
    "meta.update(meta[['movieId', 'genres', 'Year']].merge(meta_a, 'left'))\n",
    "meta.shape"
   ]
  },
  {
   "cell_type": "code",
   "execution_count": null,
   "metadata": {
    "colab": {},
    "colab_type": "code",
    "id": "EwQESjjoVO8B"
   },
   "outputs": [],
   "source": [
    "\n",
    "meta_les = meta[meta['Title'].str.contains(\", Les \")]\n",
    "meta_les['Title'] = 'Les ' + meta_les['Title'].str.replace(', Les ', '')\n",
    "meta.update(meta[['movieId', 'genres', 'Year']].merge(meta_les, 'left'))\n",
    "meta.shape"
   ]
  },
  {
   "cell_type": "code",
   "execution_count": null,
   "metadata": {
    "colab": {},
    "colab_type": "code",
    "id": "qE--mDFe3A7f"
   },
   "outputs": [],
   "source": [
    "\n",
    "meta_le = meta[meta['Title'].str.contains(\", Le \")]\n",
    "meta_le['Title'] = 'Le ' + meta_le['Title'].str.replace(', Le ', '')\n",
    "meta.update(meta[['movieId', 'genres', 'Year']].merge(meta_le, 'left'))\n",
    "meta.shape"
   ]
  },
  {
   "cell_type": "code",
   "execution_count": null,
   "metadata": {
    "colab": {},
    "colab_type": "code",
    "id": "0cNv9E86AQPQ"
   },
   "outputs": [],
   "source": [
    "\n",
    "meta_la = meta[meta['Title'].str.contains(\", La \")]\n",
    "meta_la['Title'] = 'La ' + meta_la['Title'].str.replace(', La ', '')\n",
    "meta.update(meta[['movieId', 'genres', 'Year']].merge(meta_la, 'left'))\n",
    "meta.shape"
   ]
  },
  {
   "cell_type": "code",
   "execution_count": null,
   "metadata": {
    "colab": {
     "base_uri": "https://localhost:8080/",
     "height": 136
    },
    "colab_type": "code",
    "executionInfo": {
     "elapsed": 2864,
     "status": "ok",
     "timestamp": 1594647441658,
     "user": {
      "displayName": "Vivek Aryan",
      "photoUrl": "https://lh3.googleusercontent.com/a-/AOh14Gjohx4ztvX2bvp4dA6DNRsJO32WGCI1HDx0fvZDEQ=s64",
      "userId": "13645402212033740919"
     },
     "user_tz": -330
    },
    "id": "pB1DYmaJXQFw",
    "outputId": "df6739d8-e272-4214-e9d0-09dc19d1e98d"
   },
   "outputs": [
    {
     "name": "stderr",
     "output_type": "stream",
     "text": [
      "/usr/local/lib/python3.6/dist-packages/ipykernel_launcher.py:2: SettingWithCopyWarning: \n",
      "A value is trying to be set on a copy of a slice from a DataFrame.\n",
      "Try using .loc[row_indexer,col_indexer] = value instead\n",
      "\n",
      "See the caveats in the documentation: https://pandas.pydata.org/pandas-docs/stable/user_guide/indexing.html#returning-a-view-versus-a-copy\n",
      "  \n"
     ]
    },
    {
     "data": {
      "text/plain": [
       "(57917, 6)"
      ]
     },
     "execution_count": 47,
     "metadata": {
      "tags": []
     },
     "output_type": "execute_result"
    }
   ],
   "source": [
    "\n",
    "meta_el = meta[meta['Title'].str.contains(\", El \")]\n",
    "meta_el['Title'] = 'El ' + meta_el['Title'].str.replace(', El ', '')\n",
    "meta.update(meta[['movieId', 'genres', 'Year']].merge(meta_el, 'left'))\n",
    "meta['Title'] = meta['Title'].str.strip()\n",
    "meta.shape"
   ]
  },
  {
   "cell_type": "code",
   "execution_count": null,
   "metadata": {
    "colab": {},
    "colab_type": "code",
    "id": "oDvKf-01GrDB"
   },
   "outputs": [],
   "source": [
    "meta.to_csv('/content/drive/My Drive/Colab Notebooks/Notebooks/Hybrid Movie Recommender System /cleaned_movies.csv')"
   ]
  },
  {
   "cell_type": "code",
   "execution_count": null,
   "metadata": {
    "colab": {
     "base_uri": "https://localhost:8080/",
     "height": 204
    },
    "colab_type": "code",
    "executionInfo": {
     "elapsed": 3417,
     "status": "ok",
     "timestamp": 1594647443017,
     "user": {
      "displayName": "Vivek Aryan",
      "photoUrl": "https://lh3.googleusercontent.com/a-/AOh14Gjohx4ztvX2bvp4dA6DNRsJO32WGCI1HDx0fvZDEQ=s64",
      "userId": "13645402212033740919"
     },
     "user_tz": -330
    },
    "id": "it-tmy4sGQZO",
    "outputId": "ad9bd709-09f8-45b1-e69f-c3a6f5ae6152"
   },
   "outputs": [
    {
     "data": {
      "text/html": [
       "<div>\n",
       "<style scoped>\n",
       "    .dataframe tbody tr th:only-of-type {\n",
       "        vertical-align: middle;\n",
       "    }\n",
       "\n",
       "    .dataframe tbody tr th {\n",
       "        vertical-align: top;\n",
       "    }\n",
       "\n",
       "    .dataframe thead th {\n",
       "        text-align: right;\n",
       "    }\n",
       "</style>\n",
       "<table border=\"1\" class=\"dataframe\">\n",
       "  <thead>\n",
       "    <tr style=\"text-align: right;\">\n",
       "      <th></th>\n",
       "      <th>movieId</th>\n",
       "      <th>tmdbId</th>\n",
       "      <th>title</th>\n",
       "      <th>genres</th>\n",
       "      <th>Title</th>\n",
       "      <th>Year</th>\n",
       "    </tr>\n",
       "  </thead>\n",
       "  <tbody>\n",
       "    <tr>\n",
       "      <th>0</th>\n",
       "      <td>1</td>\n",
       "      <td>862.0</td>\n",
       "      <td>Toy Story (1995)</td>\n",
       "      <td>Adventure|Animation|Children|Comedy|Fantasy</td>\n",
       "      <td>Toy Story</td>\n",
       "      <td>1995</td>\n",
       "    </tr>\n",
       "    <tr>\n",
       "      <th>1</th>\n",
       "      <td>2</td>\n",
       "      <td>8844.0</td>\n",
       "      <td>Jumanji (1995)</td>\n",
       "      <td>Adventure|Children|Fantasy</td>\n",
       "      <td>Jumanji</td>\n",
       "      <td>1995</td>\n",
       "    </tr>\n",
       "    <tr>\n",
       "      <th>2</th>\n",
       "      <td>3</td>\n",
       "      <td>15602.0</td>\n",
       "      <td>Grumpier Old Men (1995)</td>\n",
       "      <td>Comedy|Romance</td>\n",
       "      <td>Grumpier Old Men</td>\n",
       "      <td>1995</td>\n",
       "    </tr>\n",
       "    <tr>\n",
       "      <th>3</th>\n",
       "      <td>4</td>\n",
       "      <td>31357.0</td>\n",
       "      <td>Waiting to Exhale (1995)</td>\n",
       "      <td>Comedy|Drama|Romance</td>\n",
       "      <td>Waiting to Exhale</td>\n",
       "      <td>1995</td>\n",
       "    </tr>\n",
       "    <tr>\n",
       "      <th>4</th>\n",
       "      <td>5</td>\n",
       "      <td>11862.0</td>\n",
       "      <td>Father of the Bride Part II (1995)</td>\n",
       "      <td>Comedy</td>\n",
       "      <td>Father of the Bride Part II</td>\n",
       "      <td>1995</td>\n",
       "    </tr>\n",
       "  </tbody>\n",
       "</table>\n",
       "</div>"
      ],
      "text/plain": [
       "   movieId   tmdbId  ...                        Title  Year\n",
       "0        1    862.0  ...                    Toy Story  1995\n",
       "1        2   8844.0  ...                      Jumanji  1995\n",
       "2        3  15602.0  ...             Grumpier Old Men  1995\n",
       "3        4  31357.0  ...            Waiting to Exhale  1995\n",
       "4        5  11862.0  ...  Father of the Bride Part II  1995\n",
       "\n",
       "[5 rows x 6 columns]"
      ]
     },
     "execution_count": 49,
     "metadata": {
      "tags": []
     },
     "output_type": "execute_result"
    }
   ],
   "source": [
    "meta.head()"
   ]
  },
  {
   "cell_type": "code",
   "execution_count": null,
   "metadata": {
    "colab": {
     "base_uri": "https://localhost:8080/",
     "height": 119
    },
    "colab_type": "code",
    "executionInfo": {
     "elapsed": 8166,
     "status": "ok",
     "timestamp": 1594647448791,
     "user": {
      "displayName": "Vivek Aryan",
      "photoUrl": "https://lh3.googleusercontent.com/a-/AOh14Gjohx4ztvX2bvp4dA6DNRsJO32WGCI1HDx0fvZDEQ=s64",
      "userId": "13645402212033740919"
     },
     "user_tz": -330
    },
    "id": "Dir_2J6qlA84",
    "outputId": "5c87100c-daf4-46d1-9ed1-716f5d71b91c"
   },
   "outputs": [
    {
     "name": "stdout",
     "output_type": "stream",
     "text": [
      "Requirement already satisfied: tmdbv3api in /usr/local/lib/python3.6/dist-packages (1.6.1)\n",
      "Requirement already satisfied: requests in /usr/local/lib/python3.6/dist-packages (from tmdbv3api) (2.23.0)\n",
      "Requirement already satisfied: urllib3!=1.25.0,!=1.25.1,<1.26,>=1.21.1 in /usr/local/lib/python3.6/dist-packages (from requests->tmdbv3api) (1.24.3)\n",
      "Requirement already satisfied: certifi>=2017.4.17 in /usr/local/lib/python3.6/dist-packages (from requests->tmdbv3api) (2020.6.20)\n",
      "Requirement already satisfied: idna<3,>=2.5 in /usr/local/lib/python3.6/dist-packages (from requests->tmdbv3api) (2.9)\n",
      "Requirement already satisfied: chardet<4,>=3.0.2 in /usr/local/lib/python3.6/dist-packages (from requests->tmdbv3api) (3.0.4)\n"
     ]
    }
   ],
   "source": [
    "\n",
    "pip install tmdbv3api"
   ]
  },
  {
   "cell_type": "code",
   "execution_count": null,
   "metadata": {
    "colab": {},
    "colab_type": "code",
    "id": "ZRn1VN8VOJl8"
   },
   "outputs": [],
   "source": [
    "# Importing tmdbv3api \n",
    "from tmdbv3api import TMDb\n",
    "import json \n",
    "\n",
    "\n",
    "tmdb = TMDb()\n",
    "tmdb.api_key = 'd8a9368c0b37d91a60345f5fc99f00d4'"
   ]
  },
  {
   "cell_type": "code",
   "execution_count": null,
   "metadata": {
    "colab": {},
    "colab_type": "code",
    "id": "kSqqlOhRLAMw"
   },
   "outputs": [],
   "source": [
    "\n",
    "from tmdbv3api import Movie\n",
    "tmdb_movie = Movie()"
   ]
  },
  {
   "cell_type": "code",
   "execution_count": null,
   "metadata": {
    "colab": {
     "base_uri": "https://localhost:8080/",
     "height": 51
    },
    "colab_type": "code",
    "executionInfo": {
     "elapsed": 6017,
     "status": "ok",
     "timestamp": 1594647448806,
     "user": {
      "displayName": "Vivek Aryan",
      "photoUrl": "https://lh3.googleusercontent.com/a-/AOh14Gjohx4ztvX2bvp4dA6DNRsJO32WGCI1HDx0fvZDEQ=s64",
      "userId": "13645402212033740919"
     },
     "user_tz": -330
    },
    "id": "5Th811B5Bekw",
    "outputId": "2c6f8aa2-9bf9-42a6-82a8-577ccc2548ab"
   },
   "outputs": [
    {
     "name": "stdout",
     "output_type": "stream",
     "text": [
      "Toy Story\n",
      "862\n"
     ]
    }
   ],
   "source": [
    "result = tmdb_movie.details(862.0)\n",
    "print(result)\n",
    "movie_id = result.id\n",
    "print(movie_id)"
   ]
  },
  {
   "cell_type": "code",
   "execution_count": null,
   "metadata": {
    "colab": {},
    "colab_type": "code",
    "id": "y6P_VklQGquN"
   },
   "outputs": [],
   "source": [
    "\n",
    "error_movies = []\n",
    "new_movies_Id = []\n",
    "for x in meta['tmdbId']:\n",
    "  try:\n",
    "    result = tmdb_movie.details(x)\n",
    "    #print(result)\n",
    "    movie_id = result.id\n",
    "    new_movies_Id.append(movie_id)\n",
    "\n",
    "  except:\n",
    "    error_movies.append(result)"
   ]
  },
  {
   "cell_type": "code",
   "execution_count": null,
   "metadata": {
    "colab": {
     "base_uri": "https://localhost:8080/",
     "height": 34
    },
    "colab_type": "code",
    "executionInfo": {
     "elapsed": 1089,
     "status": "ok",
     "timestamp": 1594648387486,
     "user": {
      "displayName": "Vivek Aryan",
      "photoUrl": "https://lh3.googleusercontent.com/a-/AOh14Gjohx4ztvX2bvp4dA6DNRsJO32WGCI1HDx0fvZDEQ=s64",
      "userId": "13645402212033740919"
     },
     "user_tz": -330
    },
    "id": "OsttrHU2qV4O",
    "outputId": "f960086a-1a23-469c-f8ed-ebcdff1324f6"
   },
   "outputs": [
    {
     "data": {
      "text/plain": [
       "57271"
      ]
     },
     "execution_count": 57,
     "metadata": {
      "tags": []
     },
     "output_type": "execute_result"
    }
   ],
   "source": [
    "len(new_movies_Id)"
   ]
  },
  {
   "cell_type": "code",
   "execution_count": null,
   "metadata": {
    "colab": {
     "base_uri": "https://localhost:8080/",
     "height": 34
    },
    "colab_type": "code",
    "executionInfo": {
     "elapsed": 963,
     "status": "ok",
     "timestamp": 1594648941223,
     "user": {
      "displayName": "Vivek Aryan",
      "photoUrl": "https://lh3.googleusercontent.com/a-/AOh14Gjohx4ztvX2bvp4dA6DNRsJO32WGCI1HDx0fvZDEQ=s64",
      "userId": "13645402212033740919"
     },
     "user_tz": -330
    },
    "id": "btx6Ouhge7Kd",
    "outputId": "86e9da47-17d1-4631-ca52-3bef374138b4"
   },
   "outputs": [
    {
     "data": {
      "text/plain": [
       "list"
      ]
     },
     "execution_count": 59,
     "metadata": {
      "tags": []
     },
     "output_type": "execute_result"
    }
   ],
   "source": [
    "type(new_movies_Id)"
   ]
  },
  {
   "cell_type": "code",
   "execution_count": null,
   "metadata": {
    "colab": {},
    "colab_type": "code",
    "id": "SQfSgVqOIJ-h"
   },
   "outputs": [],
   "source": [
    "df = meta[meta.tmdbId.isin(new_movies_Id)]"
   ]
  },
  {
   "cell_type": "code",
   "execution_count": null,
   "metadata": {
    "colab": {},
    "colab_type": "code",
    "id": "eXjD0DitIJ4Q"
   },
   "outputs": [],
   "source": [
    "df = df.drop(columns = ['movieId', 'title'])"
   ]
  },
  {
   "cell_type": "code",
   "execution_count": null,
   "metadata": {
    "colab": {},
    "colab_type": "code",
    "id": "XgKkaWAJIJxn"
   },
   "outputs": [],
   "source": [
    "df = df[['tmdbId', 'Title', 'Year', 'genres']]"
   ]
  },
  {
   "cell_type": "code",
   "execution_count": null,
   "metadata": {
    "colab": {},
    "colab_type": "code",
    "id": "qgzzOw8RhjT-"
   },
   "outputs": [],
   "source": [
    "df['tmdbId'] = df['tmdbId'].apply(np.int64)"
   ]
  },
  {
   "cell_type": "code",
   "execution_count": null,
   "metadata": {
    "colab": {
     "base_uri": "https://localhost:8080/",
     "height": 204
    },
    "colab_type": "code",
    "executionInfo": {
     "elapsed": 986,
     "status": "ok",
     "timestamp": 1594649638258,
     "user": {
      "displayName": "Vivek Aryan",
      "photoUrl": "https://lh3.googleusercontent.com/a-/AOh14Gjohx4ztvX2bvp4dA6DNRsJO32WGCI1HDx0fvZDEQ=s64",
      "userId": "13645402212033740919"
     },
     "user_tz": -330
    },
    "id": "61VumSfIIJsh",
    "outputId": "aa7c64ca-0a5c-426e-995e-9e37b6a06f92"
   },
   "outputs": [
    {
     "data": {
      "text/html": [
       "<div>\n",
       "<style scoped>\n",
       "    .dataframe tbody tr th:only-of-type {\n",
       "        vertical-align: middle;\n",
       "    }\n",
       "\n",
       "    .dataframe tbody tr th {\n",
       "        vertical-align: top;\n",
       "    }\n",
       "\n",
       "    .dataframe thead th {\n",
       "        text-align: right;\n",
       "    }\n",
       "</style>\n",
       "<table border=\"1\" class=\"dataframe\">\n",
       "  <thead>\n",
       "    <tr style=\"text-align: right;\">\n",
       "      <th></th>\n",
       "      <th>tmdbId</th>\n",
       "      <th>Title</th>\n",
       "      <th>Year</th>\n",
       "      <th>genres</th>\n",
       "    </tr>\n",
       "  </thead>\n",
       "  <tbody>\n",
       "    <tr>\n",
       "      <th>0</th>\n",
       "      <td>862</td>\n",
       "      <td>Toy Story</td>\n",
       "      <td>1995</td>\n",
       "      <td>Adventure|Animation|Children|Comedy|Fantasy</td>\n",
       "    </tr>\n",
       "    <tr>\n",
       "      <th>1</th>\n",
       "      <td>8844</td>\n",
       "      <td>Jumanji</td>\n",
       "      <td>1995</td>\n",
       "      <td>Adventure|Children|Fantasy</td>\n",
       "    </tr>\n",
       "    <tr>\n",
       "      <th>2</th>\n",
       "      <td>15602</td>\n",
       "      <td>Grumpier Old Men</td>\n",
       "      <td>1995</td>\n",
       "      <td>Comedy|Romance</td>\n",
       "    </tr>\n",
       "    <tr>\n",
       "      <th>3</th>\n",
       "      <td>31357</td>\n",
       "      <td>Waiting to Exhale</td>\n",
       "      <td>1995</td>\n",
       "      <td>Comedy|Drama|Romance</td>\n",
       "    </tr>\n",
       "    <tr>\n",
       "      <th>4</th>\n",
       "      <td>11862</td>\n",
       "      <td>Father of the Bride Part II</td>\n",
       "      <td>1995</td>\n",
       "      <td>Comedy</td>\n",
       "    </tr>\n",
       "  </tbody>\n",
       "</table>\n",
       "</div>"
      ],
      "text/plain": [
       "   tmdbId  ...                                       genres\n",
       "0     862  ...  Adventure|Animation|Children|Comedy|Fantasy\n",
       "1    8844  ...                   Adventure|Children|Fantasy\n",
       "2   15602  ...                               Comedy|Romance\n",
       "3   31357  ...                         Comedy|Drama|Romance\n",
       "4   11862  ...                                       Comedy\n",
       "\n",
       "[5 rows x 4 columns]"
      ]
     },
     "execution_count": 79,
     "metadata": {
      "tags": []
     },
     "output_type": "execute_result"
    }
   ],
   "source": [
    "df.head()"
   ]
  },
  {
   "cell_type": "code",
   "execution_count": null,
   "metadata": {
    "colab": {
     "base_uri": "https://localhost:8080/",
     "height": 102
    },
    "colab_type": "code",
    "executionInfo": {
     "elapsed": 1029,
     "status": "ok",
     "timestamp": 1594649656684,
     "user": {
      "displayName": "Vivek Aryan",
      "photoUrl": "https://lh3.googleusercontent.com/a-/AOh14Gjohx4ztvX2bvp4dA6DNRsJO32WGCI1HDx0fvZDEQ=s64",
      "userId": "13645402212033740919"
     },
     "user_tz": -330
    },
    "id": "wfcgC2vjho2n",
    "outputId": "a1bd9603-e4d3-43e7-f016-79a069f9f9fe"
   },
   "outputs": [
    {
     "data": {
      "text/plain": [
       "tmdbId    False\n",
       "Title     False\n",
       "Year       True\n",
       "genres    False\n",
       "dtype: bool"
      ]
     },
     "execution_count": 80,
     "metadata": {
      "tags": []
     },
     "output_type": "execute_result"
    }
   ],
   "source": [
    "df.isna().any()"
   ]
  },
  {
   "cell_type": "code",
   "execution_count": null,
   "metadata": {
    "colab": {
     "base_uri": "https://localhost:8080/",
     "height": 102
    },
    "colab_type": "code",
    "executionInfo": {
     "elapsed": 773,
     "status": "ok",
     "timestamp": 1594649682974,
     "user": {
      "displayName": "Vivek Aryan",
      "photoUrl": "https://lh3.googleusercontent.com/a-/AOh14Gjohx4ztvX2bvp4dA6DNRsJO32WGCI1HDx0fvZDEQ=s64",
      "userId": "13645402212033740919"
     },
     "user_tz": -330
    },
    "id": "N1wD_9tthwNX",
    "outputId": "1af214f2-397a-496e-fa0e-b2606ea5c7a3"
   },
   "outputs": [
    {
     "data": {
      "text/plain": [
       "tmdbId      0\n",
       "Title       0\n",
       "Year      284\n",
       "genres      0\n",
       "dtype: int64"
      ]
     },
     "execution_count": 81,
     "metadata": {
      "tags": []
     },
     "output_type": "execute_result"
    }
   ],
   "source": [
    "df.isna().sum()"
   ]
  },
  {
   "cell_type": "code",
   "execution_count": null,
   "metadata": {
    "colab": {},
    "colab_type": "code",
    "id": "8IHpgpTvlJiO"
   },
   "outputs": [],
   "source": [
    "df = df.dropna(subset=['Year']) # Dropping all the null values in the Year column"
   ]
  },
  {
   "cell_type": "code",
   "execution_count": null,
   "metadata": {
    "colab": {
     "base_uri": "https://localhost:8080/",
     "height": 34
    },
    "colab_type": "code",
    "executionInfo": {
     "elapsed": 1234,
     "status": "ok",
     "timestamp": 1594650678578,
     "user": {
      "displayName": "Vivek Aryan",
      "photoUrl": "https://lh3.googleusercontent.com/a-/AOh14Gjohx4ztvX2bvp4dA6DNRsJO32WGCI1HDx0fvZDEQ=s64",
      "userId": "13645402212033740919"
     },
     "user_tz": -330
    },
    "id": "dNe4QXZGljxI",
    "outputId": "e695914f-fcc3-4f63-bf88-d40946e985af"
   },
   "outputs": [
    {
     "data": {
      "text/plain": [
       "(56987, 4)"
      ]
     },
     "execution_count": 92,
     "metadata": {
      "tags": []
     },
     "output_type": "execute_result"
    }
   ],
   "source": [
    "df.shape"
   ]
  },
  {
   "cell_type": "code",
   "execution_count": null,
   "metadata": {
    "colab": {
     "base_uri": "https://localhost:8080/",
     "height": 102
    },
    "colab_type": "code",
    "executionInfo": {
     "elapsed": 954,
     "status": "ok",
     "timestamp": 1594650668333,
     "user": {
      "displayName": "Vivek Aryan",
      "photoUrl": "https://lh3.googleusercontent.com/a-/AOh14Gjohx4ztvX2bvp4dA6DNRsJO32WGCI1HDx0fvZDEQ=s64",
      "userId": "13645402212033740919"
     },
     "user_tz": -330
    },
    "id": "DH5cIvhPlhN3",
    "outputId": "6b2345bd-999d-4bf6-f142-de32f39144da"
   },
   "outputs": [
    {
     "data": {
      "text/plain": [
       "tmdbId    0\n",
       "Title     0\n",
       "Year      0\n",
       "genres    0\n",
       "dtype: int64"
      ]
     },
     "execution_count": 91,
     "metadata": {
      "tags": []
     },
     "output_type": "execute_result"
    }
   ],
   "source": [
    "df.isna().sum()"
   ]
  },
  {
   "cell_type": "code",
   "execution_count": null,
   "metadata": {
    "colab": {},
    "colab_type": "code",
    "id": "1QqE60ZXiIbQ"
   },
   "outputs": [],
   "source": [
    "df.to_csv('C:/Users/Admin/Desktop/Miniproject/Data/cleaned_movies.csv')"
   ]
  }
 ],
 "metadata": {
  "colab": {
   "authorship_tag": "ABX9TyP85fNoUqU8VcrqVpiMMiNX",
   "collapsed_sections": [],
   "mount_file_id": "1kKvAZc54Mp2spRcc0K1IbsktzsuyW3wZ",
   "name": "Preprocessing 1.ipynb",
   "provenance": []
  },
  "kernelspec": {
   "display_name": "Python 3",
   "language": "python",
   "name": "python3"
  },
  "language_info": {
   "codemirror_mode": {
    "name": "ipython",
    "version": 3
   },
   "file_extension": ".py",
   "mimetype": "text/x-python",
   "name": "python",
   "nbconvert_exporter": "python",
   "pygments_lexer": "ipython3",
   "version": "3.8.5"
  }
 },
 "nbformat": 4,
 "nbformat_minor": 1
}
